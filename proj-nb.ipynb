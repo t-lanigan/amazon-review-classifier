{
 "cells": [
  {
   "cell_type": "markdown",
   "metadata": {},
   "source": [
    "# Amazon Review - Machine Learning Project\n",
    "Done as a final project for Udacity's machine learning nano degree. For more information, check our their [website](www.udacty.com).\n",
    " "
   ]
  },
  {
   "cell_type": "markdown",
   "metadata": {},
   "source": [
    "## Project Overview\n",
    "The quality of the comments made on internet forums has always suffered due to anonymity of it’s\n",
    "users. When users comments on, for instance, a YouTube video, there is no repercussion for what they\n",
    "say, and the dialogue generated is often not helpful. Different websites have tried different methods for\n",
    "extracting more useful comments. Reddit uses an upvote system, Quora fosters a community that\n",
    "values high quality responses over low quality ones, and Amazon allows for it’s users to to rate the\n",
    "“helpfulness” of reviews left on their products. Amazon’s system, in particular, then allows for the\n",
    "higher rated comments to be displayed at the top of the review forum so that new users can see the top\n",
    "rated comments in order to help them make their own purchasing decisions.\n",
    "\n",
    "Even though Amazon’s helpfulness rating system seems to work on the surface level, poor quality\n",
    "comments still seem to be at the top of their review forms. Having poor quality reviews hurts Amazon’s\n",
    "business, as a major reason that people are willing to buy consumer goods online without seeing the\n",
    "items themselves, is that they have access to others peoples opinions of the item. For example, a review\n",
    "at the top of an app called [“Friday Night at Freddies 4”](https://www.amazon.com/Five-Nights-at-Freddys-4/dp/B012J53LKY) is as follows:\n",
    "\n",
    ">“I love this game so much but at first I though it was lame but when I go in the game I can't\n",
    "beat the first night because cause I put it to full volume and I can't here the breathing\n",
    "bonnie strike at 4 am Chica at 5 and plus it not lame it's better than fnaf and fnaf 2 plus get\n",
    "this game when u buy fnaf”\n",
    "\n",
    "This comment, despite being at the top of the forum, is difficult to understand, a run on sentence, and\n",
    "full of spelling errors. The reason for the failure is part of the algorithm for determining the order of the\n",
    "reviews relies on how recently the review has been made. The offending review was the most recent,\n",
    "but it’s helpfulness score was far less than previous reviews. This illustrates the difficult balance that\n",
    "must be struck between showing the highest rated reviews, and showing the newest reviews, to be rated\n",
    "by the community. An ideal system would predict if a review is helpful or not, so that poor quality\n",
    "reviews would not need to be displayed the top."
   ]
  },
  {
   "cell_type": "markdown",
   "metadata": {},
   "source": [
    "### Problem Statement\n",
    "\n",
    "The problem being addressed in this project is the poor quality of Amazon reviews at the top of the\n",
    "forum despite the “helpfulness” rating system. The problem arises from the “free pass” given to new\n",
    "reviews to be placed at the top of the forum, for a chance to be rated by the community. The proposed\n",
    "solution to this problem is to use machine learning techniques to design a system that “pre-rates” new\n",
    "reviews on their “helpfulness” before they are given a position at the top of the forum. This way, poor\n",
    "quality reviews will be more unlikely to be shown at the top of the forum, as they do not get the “freepass” because they are new. The proposed system will use a set of Amazon review data to train itself to\n",
    "predict a helpfulness classification (helpful, or not helpful) for new input data.\n",
    "\n",
    "The data used for this project is provided by the University of California, San Diego and is available at Julian McAuley's [research page](http://jmcauley.ucsd.edu/data/amazon/). See the references at the end of this project for more information. As the original set is massive, we will only look at a subset of the data: the reviews for [apps for Android](http://snap.stanford.edu/data/amazon/productGraph/categoryFiles/reviews_Apps_for_Android_5.json.gz). "
   ]
  },
  {
   "cell_type": "markdown",
   "metadata": {},
   "source": [
    "### Metrics\n",
    "\n",
    "Since our problem is a binary classification problem (helpful or not helpful). We will use the ‘Receiver\n",
    "Operator Characteristic Area Under the Curve’ or `roc_auc score` to evaluate our model. The curve is created by plotting the true positive rate (TPR) against the false positive rate (FPR). The area under the curve is used to give a score to the model. If the area under the curve is 0.5, then the TPR is equal to the FPR, and the model is\n",
    "doing no better than random guessing. A perfect model would have an AUC of 1.0, meaning it has 100%\n",
    "TPR. For more information on the rox_auc score please visit the [sklearn page](http://scikit-learn.org/stable/modules/model_evaluation.html#roc-metrics)"
   ]
  },
  {
   "cell_type": "markdown",
   "metadata": {},
   "source": [
    "## Analysis"
   ]
  },
  {
   "cell_type": "code",
   "execution_count": 1,
   "metadata": {
    "collapsed": true
   },
   "outputs": [],
   "source": [
    "# These are all the modules we'll be using later. Make sure you can import them\n",
    "# before proceeding further.\n",
    "from __future__ import print_function\n",
    "import matplotlib.pyplot as plt\n",
    "import numpy as np\n",
    "import os\n",
    "import sys\n",
    "import unicodedata\n",
    "from six.moves.urllib.request import urlretrieve\n",
    "from six.moves import cPickle as pickle\n",
    "import pandas as pd\n",
    "import gzip\n",
    "import seaborn as sns\n",
    "import string\n",
    "\n",
    "from IPython.display import display # Allows the use of display() for DataFrames\n",
    "\n",
    "\n",
    "import warnings\n",
    "warnings.filterwarnings('ignore')\n",
    "\n",
    "# Config the matlotlib backend as plotting inline in IPython\n",
    "%matplotlib inline\n",
    "\n",
    "# Lets define some helpful constants\n",
    "DATASET_NAME = 'reviews_Apps_for_Android_5.json.gz'\n",
    "\n",
    "# A size for figures\n",
    "FIG_SIZE = (14,8)\n",
    "\n",
    "#Random state for classifiers\n",
    "RAN_STATE = 42\n"
   ]
  },
  {
   "cell_type": "markdown",
   "metadata": {},
   "source": [
    "### Data Exploration\n",
    "If a dataset is present, features and calculated statistics relevant to the problem have been reported and discussed, along with a sampling of the data. In lieu of a dataset, a thorough description of the input space or input data has been made. Abnormalities or characteristics about the data or input that need to be addressed have been identified.\n",
    "\n",
    "First we will check if we have already downloaded the dataset. If not, we will download it."
   ]
  },
  {
   "cell_type": "code",
   "execution_count": 2,
   "metadata": {
    "collapsed": false,
    "scrolled": true
   },
   "outputs": [
    {
     "name": "stdout",
     "output_type": "stream",
     "text": [
      "Found and verified reviews_Apps_for_Android_5.json.gz\n"
     ]
    }
   ],
   "source": [
    "url = 'http://snap.stanford.edu/data/amazon/productGraph/categoryFiles/'\n",
    "last_percent_reported = None\n",
    "\n",
    "def download_progress_hook(count, blockSize, totalSize):\n",
    "    \"\"\"A hook to report the progress of a download. This is mostly intended for users with\n",
    "    slow internet connections. Reports every 1% change in download progress.\n",
    "    \"\"\"\n",
    "    global last_percent_reported\n",
    "    percent = int(count * blockSize * 100 / totalSize)\n",
    "\n",
    "    if last_percent_reported != percent:\n",
    "        if percent % 5 == 0:\n",
    "            sys.stdout.write(\"%s%%\" % percent)\n",
    "            sys.stdout.flush()\n",
    "        else:\n",
    "            sys.stdout.write(\".\")\n",
    "            sys.stdout.flush()\n",
    "            \n",
    "        last_percent_reported = percent\n",
    "                \n",
    "def maybe_download(filename, expected_bytes, force=False):\n",
    "    \"\"\"Download a file if not present, and make sure it's the right size.\"\"\"\n",
    "    if force or not os.path.exists(filename):\n",
    "        print('Attempting to download:', filename) \n",
    "        filename, _ = urlretrieve(url + filename, filename, reporthook=download_progress_hook)\n",
    "        print('\\nDownload Complete!')\n",
    "    statinfo = os.stat(filename)\n",
    "    if statinfo.st_size == expected_bytes:\n",
    "        print('Found and verified', filename)\n",
    "    else:\n",
    "        raise Exception(\n",
    "            'Failed to verify ' + filename + '. Can you get to it with a browser?')\n",
    "    return filename\n",
    "\n",
    "test = maybe_download(DATASET_NAME, 95509687)\n"
   ]
  },
  {
   "cell_type": "markdown",
   "metadata": {},
   "source": [
    "We need to extract the data, and convert the data given in \"json\" to a dataframe in order to perform our analysis. To save time for later we will pickle the file."
   ]
  },
  {
   "cell_type": "code",
   "execution_count": 3,
   "metadata": {
    "collapsed": false
   },
   "outputs": [
    {
     "name": "stdout",
     "output_type": "stream",
     "text": [
      "Pickled file already present, loading...\n",
      "Pickle file loaded.\n"
     ]
    }
   ],
   "source": [
    "def parse(path):\n",
    "    g = gzip.open(path, 'rb')\n",
    "    for l in g:\n",
    "        yield eval(l)\n",
    "\n",
    "def getDF(path):\n",
    "    i = 0\n",
    "    data = {}\n",
    "    for d in parse(path):\n",
    "        data[i] = d\n",
    "        i += 1\n",
    "    return pd.DataFrame.from_dict(df, orient='index')\n",
    "\n",
    "#removes extensions and adds pickle.\n",
    "pickle_file_name = (DATASET_NAME[:-8]+'.pickle')\n",
    "\n",
    "#loads pickle if exists, extracts and pickles if it doesn't\n",
    "if os.path.exists(pickle_file_name):\n",
    "    print ('Pickled file already present, loading...')\n",
    "    data = pd.read_pickle(pickle_file_name)\n",
    "    print ('Pickle file loaded.')\n",
    "else:\n",
    "    data = getDF(DATASET_NAME)\n",
    "    data.to_pickle(pickle_file_name)\n",
    "\n"
   ]
  },
  {
   "cell_type": "markdown",
   "metadata": {},
   "source": [
    "OK now lets have a look at the data."
   ]
  },
  {
   "cell_type": "code",
   "execution_count": 4,
   "metadata": {
    "collapsed": false
   },
   "outputs": [
    {
     "data": {
      "text/html": [
       "<div>\n",
       "<table border=\"1\" class=\"dataframe\">\n",
       "  <thead>\n",
       "    <tr style=\"text-align: right;\">\n",
       "      <th></th>\n",
       "      <th>reviewerID</th>\n",
       "      <th>asin</th>\n",
       "      <th>reviewerName</th>\n",
       "      <th>helpful</th>\n",
       "      <th>unixReviewTime</th>\n",
       "      <th>reviewText</th>\n",
       "      <th>overall</th>\n",
       "      <th>reviewTime</th>\n",
       "      <th>summary</th>\n",
       "    </tr>\n",
       "  </thead>\n",
       "  <tbody>\n",
       "    <tr>\n",
       "      <th>0</th>\n",
       "      <td>A1N4O8VOJZTDVB</td>\n",
       "      <td>B004A9SDD8</td>\n",
       "      <td>Annette Yancey</td>\n",
       "      <td>[1, 1]</td>\n",
       "      <td>1383350400</td>\n",
       "      <td>Loves the song, so he really couldn't wait to ...</td>\n",
       "      <td>3.0</td>\n",
       "      <td>11 2, 2013</td>\n",
       "      <td>Really cute</td>\n",
       "    </tr>\n",
       "  </tbody>\n",
       "</table>\n",
       "</div>"
      ],
      "text/plain": [
       "       reviewerID        asin    reviewerName helpful  unixReviewTime  \\\n",
       "0  A1N4O8VOJZTDVB  B004A9SDD8  Annette Yancey  [1, 1]      1383350400   \n",
       "\n",
       "                                          reviewText  overall  reviewTime  \\\n",
       "0  Loves the song, so he really couldn't wait to ...      3.0  11 2, 2013   \n",
       "\n",
       "       summary  \n",
       "0  Really cute  "
      ]
     },
     "execution_count": 4,
     "metadata": {},
     "output_type": "execute_result"
    }
   ],
   "source": [
    "data.head(1)"
   ]
  },
  {
   "cell_type": "markdown",
   "metadata": {},
   "source": [
    "The `helpful` score can be explained as follows: a user can either rate the review as 'helpful’ or ‘not\n",
    "helpful’. The dataset records each of these in an array. For our problem we want to classify the email as\n",
    "either ‘helpful’ or not ‘helpful’. For training, this label can be generated by dividing the ‘helpful’\n",
    "ratings by the total ratings and seeing if it exceeds a certain threshold.\n",
    "\n",
    "Lets extract the information we need for this project:\n",
    "\n",
    "* The 'reviewText' will be used to generate features using natural language processing.\n",
    "* The score will be used as a feauture in our final model\n",
    "* The 'helpful' rating will be used to generate labels. We will train our model using these training labels. Predict the label using the test features, and measure the success of our model using the test labels. This will be explained more later.\n",
    "\n",
    "Other features that could be important would be the summary; however, in the interest of keeping this simple, we will exclude it from the analysis."
   ]
  },
  {
   "cell_type": "code",
   "execution_count": 5,
   "metadata": {
    "collapsed": false
   },
   "outputs": [
    {
     "name": "stdout",
     "output_type": "stream",
     "text": [
      "overall                0\n",
      "reviewText             0\n",
      "helpful_numerator      0\n",
      "helpful_denominator    0\n",
      "dtype: int64\n"
     ]
    }
   ],
   "source": [
    "#select the columns\n",
    "df = data.iloc[:, [6,5,3]]\n",
    "\n",
    "#split numerator and denominator\n",
    "df['helpful_numerator'] = df['helpful'].apply(lambda x: x[0])\n",
    "df['helpful_denominator'] = df['helpful'].apply(lambda x: x[1])\n",
    "\n",
    "# delete un-needed 'helpful catagory\n",
    "del df['helpful']\n",
    "\n",
    "#Check if we have any null values\n",
    "print (df.isnull().sum())\n"
   ]
  },
  {
   "cell_type": "markdown",
   "metadata": {},
   "source": [
    "Lets have a quick look at the stats.."
   ]
  },
  {
   "cell_type": "code",
   "execution_count": 6,
   "metadata": {
    "collapsed": false
   },
   "outputs": [
    {
     "data": {
      "text/html": [
       "<div>\n",
       "<table border=\"1\" class=\"dataframe\">\n",
       "  <thead>\n",
       "    <tr style=\"text-align: right;\">\n",
       "      <th></th>\n",
       "      <th>overall</th>\n",
       "      <th>helpful_numerator</th>\n",
       "      <th>helpful_denominator</th>\n",
       "    </tr>\n",
       "  </thead>\n",
       "  <tbody>\n",
       "    <tr>\n",
       "      <th>count</th>\n",
       "      <td>752937.000000</td>\n",
       "      <td>752937.000000</td>\n",
       "      <td>752937.000000</td>\n",
       "    </tr>\n",
       "    <tr>\n",
       "      <th>mean</th>\n",
       "      <td>3.968931</td>\n",
       "      <td>3.435937</td>\n",
       "      <td>4.473125</td>\n",
       "    </tr>\n",
       "    <tr>\n",
       "      <th>std</th>\n",
       "      <td>1.342484</td>\n",
       "      <td>37.328951</td>\n",
       "      <td>43.688824</td>\n",
       "    </tr>\n",
       "    <tr>\n",
       "      <th>min</th>\n",
       "      <td>1.000000</td>\n",
       "      <td>0.000000</td>\n",
       "      <td>0.000000</td>\n",
       "    </tr>\n",
       "    <tr>\n",
       "      <th>25%</th>\n",
       "      <td>3.000000</td>\n",
       "      <td>0.000000</td>\n",
       "      <td>0.000000</td>\n",
       "    </tr>\n",
       "    <tr>\n",
       "      <th>50%</th>\n",
       "      <td>5.000000</td>\n",
       "      <td>0.000000</td>\n",
       "      <td>0.000000</td>\n",
       "    </tr>\n",
       "    <tr>\n",
       "      <th>75%</th>\n",
       "      <td>5.000000</td>\n",
       "      <td>1.000000</td>\n",
       "      <td>2.000000</td>\n",
       "    </tr>\n",
       "    <tr>\n",
       "      <th>max</th>\n",
       "      <td>5.000000</td>\n",
       "      <td>8116.000000</td>\n",
       "      <td>9258.000000</td>\n",
       "    </tr>\n",
       "  </tbody>\n",
       "</table>\n",
       "</div>"
      ],
      "text/plain": [
       "             overall  helpful_numerator  helpful_denominator\n",
       "count  752937.000000      752937.000000        752937.000000\n",
       "mean        3.968931           3.435937             4.473125\n",
       "std         1.342484          37.328951            43.688824\n",
       "min         1.000000           0.000000             0.000000\n",
       "25%         3.000000           0.000000             0.000000\n",
       "50%         5.000000           0.000000             0.000000\n",
       "75%         5.000000           1.000000             2.000000\n",
       "max         5.000000        8116.000000          9258.000000"
      ]
     },
     "execution_count": 6,
     "metadata": {},
     "output_type": "execute_result"
    }
   ],
   "source": [
    "df.describe()"
   ]
  },
  {
   "cell_type": "markdown",
   "metadata": {},
   "source": [
    "There are clearly some outliers and weird numbers in here. Lets move on to some visualization."
   ]
  },
  {
   "cell_type": "markdown",
   "metadata": {},
   "source": [
    "### Exploratory Visualization\n",
    "A visualization has been provided that summarizes or extracts a relevant characteristic or feature about the dataset or input data with thorough discussion. Visual cues are clearly defined.\n",
    "\n",
    "Lets have a look at how our data is distributed."
   ]
  },
  {
   "cell_type": "code",
   "execution_count": 7,
   "metadata": {
    "collapsed": false
   },
   "outputs": [
    {
     "data": {
      "text/plain": [
       "<matplotlib.axes._subplots.AxesSubplot at 0x7fde11357290>"
      ]
     },
     "metadata": {},
     "output_type": "display_data"
    },
    {
     "data": {
      "image/png": "[encoded data removed]",
      "text/plain": [
       "<matplotlib.figure.Figure at 0x7fde02d69990>"
      ]
     },
     "metadata": {},
     "output_type": "display_data"
    }
   ],
   "source": [
    "### Box Plot\n",
    "plt.figure(figsize=FIG_SIZE)\n",
    "plt.title('Box plot of Features')\n",
    "plt.ylabel('Spread')\n",
    "plt.xlabel('Features')\n",
    "\n",
    "display(sns.boxplot(df[df.columns]))"
   ]
  },
  {
   "cell_type": "markdown",
   "metadata": {},
   "source": [
    "This is pretty ugly, let's have a look at some of the outliers and make sure they are valid data."
   ]
  },
  {
   "cell_type": "code",
   "execution_count": 8,
   "metadata": {
    "collapsed": false
   },
   "outputs": [
    {
     "name": "stdout",
     "output_type": "stream",
     "text": [
      "510127\n",
      "510127\n"
     ]
    }
   ],
   "source": [
    "print (df['helpful_numerator'].idxmax(axis=0, skipna=True))\n",
    "print (df['helpful_denominator'].idxmax(axis = 0, skipna = True))"
   ]
  },
  {
   "cell_type": "code",
   "execution_count": 9,
   "metadata": {
    "collapsed": false
   },
   "outputs": [
    {
     "data": {
      "text/html": [
       "<div>\n",
       "<table border=\"1\" class=\"dataframe\">\n",
       "  <thead>\n",
       "    <tr style=\"text-align: right;\">\n",
       "      <th></th>\n",
       "      <th>overall</th>\n",
       "      <th>reviewText</th>\n",
       "      <th>helpful_numerator</th>\n",
       "      <th>helpful_denominator</th>\n",
       "    </tr>\n",
       "  </thead>\n",
       "  <tbody>\n",
       "    <tr>\n",
       "      <th>510127</th>\n",
       "      <td>5.0</td>\n",
       "      <td>This game is the perfect sequel to Temple Run....</td>\n",
       "      <td>8116</td>\n",
       "      <td>9258</td>\n",
       "    </tr>\n",
       "  </tbody>\n",
       "</table>\n",
       "</div>"
      ],
      "text/plain": [
       "        overall                                         reviewText  \\\n",
       "510127      5.0  This game is the perfect sequel to Temple Run....   \n",
       "\n",
       "        helpful_numerator  helpful_denominator  \n",
       "510127               8116                 9258  "
      ]
     },
     "execution_count": 9,
     "metadata": {},
     "output_type": "execute_result"
    }
   ],
   "source": [
    "df.iloc[[510127]]"
   ]
  },
  {
   "cell_type": "markdown",
   "metadata": {},
   "source": [
    "This looks fine to me. Moving on."
   ]
  },
  {
   "cell_type": "markdown",
   "metadata": {},
   "source": [
    "### Algorithms and Techniques\n",
    "Algorithms and techniques used in the project are thoroughly discussed and properly justified based on the characteristics of the problem."
   ]
  },
  {
   "cell_type": "markdown",
   "metadata": {},
   "source": [
    "### Benchmark\n",
    "Student clearly defines a benchmark result or threshold for comparing performances of solutions obtained."
   ]
  },
  {
   "cell_type": "markdown",
   "metadata": {},
   "source": [
    "## Methodology"
   ]
  },
  {
   "cell_type": "markdown",
   "metadata": {},
   "source": [
    "### Data Preprocessing\n",
    "All preprocessing steps have been clearly documented. Abnormalities or characteristics about the data or input that needed to be addressed have been corrected. If no data preprocessing is necessary, it has been clearly justified.\n",
    "\n",
    "Data that has had less than 10 ratings will first be trimmed out of the dataset. There are a significant amount of reviews, and many do not face the scrutiny of people reading them. So these data points will influence our analysis, as they could be good reviews, but have no one read them."
   ]
  },
  {
   "cell_type": "code",
   "execution_count": 10,
   "metadata": {
    "collapsed": false
   },
   "outputs": [
    {
     "data": {
      "text/plain": [
       "(47932, 4)"
      ]
     },
     "execution_count": 10,
     "metadata": {},
     "output_type": "execute_result"
    }
   ],
   "source": [
    "#include reviews that have more than 10 helpfulness data point only\n",
    "df1 = df[(df.helpful_denominator > 10)].copy()\n",
    "df1.shape"
   ]
  },
  {
   "cell_type": "markdown",
   "metadata": {},
   "source": [
    "In order to perform our analysis, we wish to determine if a given review text is helpful or not. We need a way to map the existing data to this binary classification. The chosen method is to use a threshold of 'helpful_numerator' divided by 'helpful_denominator'. In other words, the ratio of the people who found the review helpful over the amount of people who rated the review as helpful or unhelpful. If this ratio exceeds a certain threshold value, we can label the training data as 'helpful' = 1, or 'non-helpful' = 0"
   ]
  },
  {
   "cell_type": "code",
   "execution_count": 11,
   "metadata": {
    "collapsed": false
   },
   "outputs": [
    {
     "data": {
      "text/html": [
       "<div>\n",
       "<table border=\"1\" class=\"dataframe\">\n",
       "  <thead>\n",
       "    <tr style=\"text-align: right;\">\n",
       "      <th></th>\n",
       "      <th>overall</th>\n",
       "      <th>reviewText</th>\n",
       "      <th>helpful_numerator</th>\n",
       "      <th>helpful_denominator</th>\n",
       "      <th>Helpful</th>\n",
       "    </tr>\n",
       "  </thead>\n",
       "  <tbody>\n",
       "    <tr>\n",
       "      <th>33</th>\n",
       "      <td>3.0</td>\n",
       "      <td>I did the 7-day trial and was impressed, but a...</td>\n",
       "      <td>15</td>\n",
       "      <td>20</td>\n",
       "      <td>1</td>\n",
       "    </tr>\n",
       "    <tr>\n",
       "      <th>94</th>\n",
       "      <td>5.0</td>\n",
       "      <td>This app is great!  It has a daily verse, a da...</td>\n",
       "      <td>96</td>\n",
       "      <td>107</td>\n",
       "      <td>1</td>\n",
       "    </tr>\n",
       "    <tr>\n",
       "      <th>284</th>\n",
       "      <td>2.0</td>\n",
       "      <td>This app simply latches on to Google maps and ...</td>\n",
       "      <td>11</td>\n",
       "      <td>23</td>\n",
       "      <td>0</td>\n",
       "    </tr>\n",
       "  </tbody>\n",
       "</table>\n",
       "</div>"
      ],
      "text/plain": [
       "     overall                                         reviewText  \\\n",
       "33       3.0  I did the 7-day trial and was impressed, but a...   \n",
       "94       5.0  This app is great!  It has a daily verse, a da...   \n",
       "284      2.0  This app simply latches on to Google maps and ...   \n",
       "\n",
       "     helpful_numerator  helpful_denominator  Helpful  \n",
       "33                  15                   20        1  \n",
       "94                  96                  107        1  \n",
       "284                 11                   23        0  "
      ]
     },
     "execution_count": 11,
     "metadata": {},
     "output_type": "execute_result"
    }
   ],
   "source": [
    "#transform Helpfulness into a binary variable with 0.50 ratio\n",
    "threshold = 0.5\n",
    "df1.loc[:, 'Helpful'] = np.where(df1.loc[:, 'helpful_numerator'] \\\n",
    "                                 / df1.loc[:, 'helpful_denominator'] > threshold, 1, 0)\n",
    "df1.head(3)"
   ]
  },
  {
   "cell_type": "code",
   "execution_count": 12,
   "metadata": {
    "collapsed": false,
    "scrolled": true
   },
   "outputs": [
    {
     "name": "stdout",
     "output_type": "stream",
     "text": [
      "Count:\n"
     ]
    },
    {
     "data": {
      "text/html": [
       "<div>\n",
       "<table border=\"1\" class=\"dataframe\">\n",
       "  <thead>\n",
       "    <tr style=\"text-align: right;\">\n",
       "      <th></th>\n",
       "      <th>overall</th>\n",
       "      <th>reviewText</th>\n",
       "      <th>helpful_numerator</th>\n",
       "      <th>helpful_denominator</th>\n",
       "    </tr>\n",
       "    <tr>\n",
       "      <th>Helpful</th>\n",
       "      <th></th>\n",
       "      <th></th>\n",
       "      <th></th>\n",
       "      <th></th>\n",
       "    </tr>\n",
       "  </thead>\n",
       "  <tbody>\n",
       "    <tr>\n",
       "      <th>0</th>\n",
       "      <td>6210</td>\n",
       "      <td>6210</td>\n",
       "      <td>6210</td>\n",
       "      <td>6210</td>\n",
       "    </tr>\n",
       "    <tr>\n",
       "      <th>1</th>\n",
       "      <td>41722</td>\n",
       "      <td>41722</td>\n",
       "      <td>41722</td>\n",
       "      <td>41722</td>\n",
       "    </tr>\n",
       "  </tbody>\n",
       "</table>\n",
       "</div>"
      ],
      "text/plain": [
       "         overall  reviewText  helpful_numerator  helpful_denominator\n",
       "Helpful                                                             \n",
       "0           6210        6210               6210                 6210\n",
       "1          41722       41722              41722                41722"
      ]
     },
     "metadata": {},
     "output_type": "display_data"
    }
   ],
   "source": [
    "#Lets check the balance\n",
    "print ('Count:')\n",
    "display(df1.groupby('Helpful').count())\n"
   ]
  },
  {
   "cell_type": "code",
   "execution_count": 13,
   "metadata": {
    "collapsed": false
   },
   "outputs": [
    {
     "data": {
      "image/png": "[encoded data removed]",
      "text/plain": [
       "<matplotlib.figure.Figure at 0x7fde4061ae50>"
      ]
     },
     "metadata": {},
     "output_type": "display_data"
    }
   ],
   "source": [
    "#visualize correlation of the data\n",
    "correlations = df1.corr()\n",
    "plt.figure(figsize = FIG_SIZE)\n",
    "plt.title(\"Heatmap of correlations in each catagory\")\n",
    "_ = sns.heatmap(correlations, vmin=0, vmax=1, annot=True)\n"
   ]
  },
  {
   "cell_type": "markdown",
   "metadata": {},
   "source": [
    "We can see that our dataset in unbalanced, with roughly 7 times as many effective reviews as ineffective reviews. This means that when we are splitting our data later, we will need to use a stratified shuffle so that both categories have proportional representation in training.\n",
    "\n",
    "We can also see that there is a small correlation between the score and the 'Helpful' rating. It is good that this correlation is small, or else our job would be very easy and we wouldn't need to generate features from the reviewText at all, we could just look at the score of the review. "
   ]
  },
  {
   "cell_type": "markdown",
   "metadata": {},
   "source": [
    "### Text Feature Generation\n",
    "Now lets convert the text to lower case so we can run our natural language processing to produce features. We will also remove punctuation. Removing punctuation may seem like it should not be done in the case of this problem, as not having punctuation will make a review harder to understand. This is a trade-off that we must consider as if you have punctuation, it will cause the learning algorithm to behave poorly."
   ]
  },
  {
   "cell_type": "code",
   "execution_count": 14,
   "metadata": {
    "collapsed": false
   },
   "outputs": [
    {
     "data": {
      "text/plain": [
       "33     i did the 7day trial and was impressed but am ...\n",
       "94     this app is great  it has a daily verse a dail...\n",
       "284    this app simply latches on to google maps and ...\n",
       "288    unable to move to sd card uninstalled cannot r...\n",
       "Name: reviewText, dtype: object"
      ]
     },
     "execution_count": 14,
     "metadata": {},
     "output_type": "execute_result"
    }
   ],
   "source": [
    "# convert text to lowercase\n",
    "df1.loc[:, 'reviewText'] = df1['reviewText'].str.lower()\n",
    "\n",
    "def remove_punctuation(text):\n",
    "    return text.translate(None, string.punctuation.translate(None, '\"'))\n",
    "\n",
    "df1['reviewText']=df1['reviewText'].apply( lambda x: remove_punctuation(x))\n",
    "df1['reviewText'].head(4)"
   ]
  },
  {
   "cell_type": "markdown",
   "metadata": {},
   "source": [
    "In order to generate more features we will use the [TF-IDF vectorizer](http://scikit-learn.org/stable/modules/generated/sklearn.feature_extraction.text.TfidfVectorizer.html) from the sci-kit learn library. We will also use the [NLTK](http://www.nltk.org/) library. The pre-processing methods that we are going to employ are as follows:\n",
    "\n",
    "* __Stemming__ - Stemming means to take off the suffixes of the stemmed word. Therefore words such as \"run\" and \"running\" would both be represented as \"run\". This allows for our algorithms to more accurate find trends in the \"meanings\" of sentences (e.g \"the sun is shining\" and \"the sun shines\" will more accurately be associated with the same meaning. It will reduce the total amount of features that we will generate.\n",
    "* __Tolkenizing__- Splits sentences up into single words. This is needed to generate our TFIDF features.\n",
    "* __Remove Stop Words__- This moves words such as \"the\" \"a\" and \"it\" as shown in the English stop words [corpus](http://www.nltk.org/howto/corpus.html). These will only clutter up our learning algorithm. Admittingly, sentences without these words are hard to understand, and ideally they should be kept, but it is again a trade-off.\n",
    "* __ngrams__- Makes groups of words that are 'n' long. E.g the 2-grams for the sentence \"The shaggy dog\" are [The, shaggy], [The, dog] and [shaggy, dog]. Weving more than that is computationally expensive for my computer. will stick to 2-grams and 1-grams for now. Having more than that is computationally expensive.\n",
    "\n",
    "Finally we will generate TF-IDF scores for each of the stemmed and tolkenized words and ngrams. TF-IDF is short for _Term Frequency Inverse Document frequency_. TF-IDF is a numerical statistic that is intended to reflect how important a word is to a document in a collection or corpus. It is often used as a weighting factor in information retrieval and text mining. For more information check out this [link.](http://www.tfidf.com/)"
   ]
  },
  {
   "cell_type": "code",
   "execution_count": 35,
   "metadata": {
    "collapsed": false,
    "scrolled": true
   },
   "outputs": [
    {
     "data": {
      "text/plain": [
       "(47932, 445)"
      ]
     },
     "execution_count": 35,
     "metadata": {},
     "output_type": "execute_result"
    }
   ],
   "source": [
    "#tokenize text with Tfidf\n",
    "from sklearn.feature_extraction.text import TfidfVectorizer\n",
    "from nltk.stem.snowball import SnowballStemmer\n",
    "\n",
    "#create a stemmer\n",
    "stemmer = SnowballStemmer(\"english\")\n",
    "\n",
    "\n",
    "#define our own tokenizing function that we will pass into the TFIDFVectorizer. We will also stem the words here.\n",
    "def tokens(x):\n",
    "    x = x.split()\n",
    "    stems = []\n",
    "    [stems.append(stemmer.stem(word)) for word in x]\n",
    "    return stems\n",
    "\n",
    "#define the vectorizer\n",
    "vectorizer = TfidfVectorizer(tokenizer = tokens, stop_words = 'english', ngram_range=(1, 1), min_df = 0.01)\n",
    "#fit the vectorizers to the data.\n",
    "features = vectorizer.fit_transform(df1['reviewText'])\n",
    "\n",
    "\n",
    "vocab = vectorizer.get_feature_names()\n",
    "features.shape\n",
    "\n",
    "\n"
   ]
  },
  {
   "cell_type": "markdown",
   "metadata": {},
   "source": [
    "We have now generated all of the features that we are going to need. \n"
   ]
  },
  {
   "cell_type": "markdown",
   "metadata": {},
   "source": [
    "### Benchmark model (Bag of Words)\n",
    "In order to establish a baseline for the project, we will use a Bag of Words model. A Bag of Words model is trained entirely using the TFIDF features that we just generated. Now we will shuffle and split the data into 80% training and 20% testing."
   ]
  },
  {
   "cell_type": "code",
   "execution_count": 36,
   "metadata": {
    "collapsed": false
   },
   "outputs": [],
   "source": [
    "from sklearn.cross_validation import train_test_split\n",
    "X_train, X_test, y_train, y_test = train_test_split(features,df1['Helpful'], test_size=0.2, random_state=RAN_STATE)"
   ]
  },
  {
   "cell_type": "markdown",
   "metadata": {},
   "source": [
    "The benefit to splitting the data into testing and training sets is that this allows simulated evaluation of how well the model is performing before using it in the real world to make predictions.\n",
    "If there was no testing set, there would be no way of realistically evaluating the model as you would only be able to measure it's performace on data to which it's already been exposed. This will result in a false sense of confidence in how well the model performs."
   ]
  },
  {
   "cell_type": "markdown",
   "metadata": {},
   "source": [
    "### Grid Search\n",
    "\n",
    "The grid search technique works by generating a grid of all possible provided parameter combinations. It then evaluates a model using a validation set based on every combination of parameters in the grid. It is used to find the optimum set of parameters for a learning algorithm given a data set.\n"
   ]
  },
  {
   "cell_type": "markdown",
   "metadata": {},
   "source": [
    "### Cross-Validation\n",
    "The k-folds validation training technique creates multiple testing and training sets and trains a model on each, averaging the results. The splitting method is to divide the data into separate bins (for example k = 5), train on bins 1 to k-1 and test on bin k. The next fold trains on bins 2 to k and tests on bin 1 and so on, until all of the bins have acted as a test bin. This effectively trains and tests the models on all of the data without over-fitting to the data.\n",
    "\n",
    "The benefits that this provides for grid search while optimizing the model is that there is less of a chance that the final model won't be optimized to data that could potentially have a bias. For example, if somehow, all of the training data didn't contain a unique data point (such as a high MEDV value for a low RM) the final model would be very biased not predict this scenario, and the optimization will make that worse. However, with k-folds validation, one of the trained models will see the unique data point and the result will be reflected in the final averaged model."
   ]
  },
  {
   "cell_type": "code",
   "execution_count": 49,
   "metadata": {
    "collapsed": false
   },
   "outputs": [
    {
     "data": {
      "text/plain": [
       "[mean: 0.62100, std: 0.00886, params: {'C': 1e-05, 'class_weight': None},\n",
       " mean: 0.71721, std: 0.00878, params: {'C': 1e-05, 'class_weight': 'balanced'},\n",
       " mean: 0.63316, std: 0.00883, params: {'C': 0.0001, 'class_weight': None},\n",
       " mean: 0.71759, std: 0.00881, params: {'C': 0.0001, 'class_weight': 'balanced'},\n",
       " mean: 0.68943, std: 0.00909, params: {'C': 0.001, 'class_weight': None},\n",
       " mean: 0.72108, std: 0.00903, params: {'C': 0.001, 'class_weight': 'balanced'},\n",
       " mean: 0.73067, std: 0.00992, params: {'C': 0.01, 'class_weight': None},\n",
       " mean: 0.73651, std: 0.00978, params: {'C': 0.01, 'class_weight': 'balanced'},\n",
       " mean: 0.74680, std: 0.01027, params: {'C': 0.1, 'class_weight': None},\n",
       " mean: 0.74839, std: 0.00984, params: {'C': 0.1, 'class_weight': 'balanced'},\n",
       " mean: 0.74671, std: 0.00979, params: {'C': 1, 'class_weight': None},\n",
       " mean: 0.74500, std: 0.00967, params: {'C': 1, 'class_weight': 'balanced'},\n",
       " mean: 0.74388, std: 0.00977, params: {'C': 10, 'class_weight': None},\n",
       " mean: 0.74291, std: 0.00966, params: {'C': 10, 'class_weight': 'balanced'},\n",
       " mean: 0.74336, std: 0.00979, params: {'C': 100, 'class_weight': None},\n",
       " mean: 0.74262, std: 0.00966, params: {'C': 100, 'class_weight': 'balanced'},\n",
       " mean: 0.74330, std: 0.00979, params: {'C': 1000, 'class_weight': None},\n",
       " mean: 0.74260, std: 0.00965, params: {'C': 1000, 'class_weight': 'balanced'},\n",
       " mean: 0.74330, std: 0.00979, params: {'C': 10000, 'class_weight': None},\n",
       " mean: 0.74259, std: 0.00965, params: {'C': 10000, 'class_weight': 'balanced'},\n",
       " mean: 0.74330, std: 0.00979, params: {'C': 100000, 'class_weight': None},\n",
       " mean: 0.74259, std: 0.00965, params: {'C': 100000, 'class_weight': 'balanced'},\n",
       " mean: 0.74330, std: 0.00979, params: {'C': 1000000, 'class_weight': None},\n",
       " mean: 0.74259, std: 0.00965, params: {'C': 1000000, 'class_weight': 'balanced'},\n",
       " mean: 0.74330, std: 0.00980, params: {'C': 10000000, 'class_weight': None},\n",
       " mean: 0.74259, std: 0.00965, params: {'C': 10000000, 'class_weight': 'balanced'},\n",
       " mean: 0.74330, std: 0.00979, params: {'C': 100000000, 'class_weight': None},\n",
       " mean: 0.74259, std: 0.00965, params: {'C': 100000000, 'class_weight': 'balanced'},\n",
       " mean: 0.74330, std: 0.00979, params: {'C': 1000000000, 'class_weight': None},\n",
       " mean: 0.74259, std: 0.00965, params: {'C': 1000000000, 'class_weight': 'balanced'}]"
      ]
     },
     "execution_count": 49,
     "metadata": {},
     "output_type": "execute_result"
    }
   ],
   "source": [
    "#find best logistic regression parameters\n",
    "from sklearn import grid_search, cross_validation\n",
    "from sklearn.linear_model import LogisticRegression\n",
    "feature_set = X_train\n",
    "\n",
    "gs = grid_search.GridSearchCV(\n",
    "    estimator=LogisticRegression(),\n",
    "    param_grid={'C': [10**i for i in range(-5,10)], 'class_weight': [None, 'balanced']},\n",
    "    cv=cross_validation.StratifiedKFold(y_train,n_folds=5),\n",
    "    scoring='roc_auc'\n",
    ")\n",
    "\n",
    "gs.fit(X_train, y_train)\n",
    "gs.grid_scores_"
   ]
  },
  {
   "cell_type": "code",
   "execution_count": 70,
   "metadata": {
    "collapsed": false
   },
   "outputs": [
    {
     "data": {
      "text/plain": [
       "[<matplotlib.lines.Line2D at 0x7fddecf45390>]"
      ]
     },
     "execution_count": 70,
     "metadata": {},
     "output_type": "execute_result"
    },
    {
     "data": {
      "image/png": "[encoded data removed]",
      "text/plain": [
       "<matplotlib.figure.Figure at 0x7fddecd29410>"
      ]
     },
     "metadata": {},
     "output_type": "display_data"
    }
   ],
   "source": [
    "#plot ROC/AUC curve\n",
    "from sklearn.metrics import roc_auc_score, roc_curve\n",
    "\n",
    "clf = gs.best_estimator_\n",
    "actuals = clf.predict(features) \n",
    "probas =clf.predict_proba(features)\n",
    "plt.plot(roc_curve(df1[['Helpful']], probas[:,1])[0], roc_curve(df1[['Helpful']], probas[:,1])[1])"
   ]
  },
  {
   "cell_type": "markdown",
   "metadata": {},
   "source": [
    "### Implementation\n",
    "The process for which metrics, algorithms, and techniques were implemented with the given datasets or input data has been thoroughly documented. Complications that occurred during the coding process are discussed.\n",
    "\n",
    "\n"
   ]
  },
  {
   "cell_type": "markdown",
   "metadata": {},
   "source": [
    "### Refinement\n",
    "\n",
    "The process of improving upon the algorithms and techniques used is clearly documented. Both the initial and final solutions are reported, along with intermediate solutions, if necessary."
   ]
  },
  {
   "cell_type": "markdown",
   "metadata": {},
   "source": [
    "## Results"
   ]
  },
  {
   "cell_type": "markdown",
   "metadata": {},
   "source": [
    "### Model Evaluation and Validation\n",
    "The final model’s qualities — such as parameters — are evaluated in detail. Some type of analysis is used to validate the robustness of the model’s solution."
   ]
  },
  {
   "cell_type": "markdown",
   "metadata": {},
   "source": [
    "### Justification\n",
    "\n",
    "The final results are compared to the benchmark result or threshold with some type of statistical analysis. Justification is made as to whether the final model and solution is significant enough to have adequately solved the problem."
   ]
  },
  {
   "cell_type": "markdown",
   "metadata": {},
   "source": [
    "## Conclusion"
   ]
  },
  {
   "cell_type": "markdown",
   "metadata": {},
   "source": [
    "### Free-Form Visualization\n",
    "A visualization has been provided that emphasizes an important quality about the project with thorough discussion. Visual cues are clearly defined.\n"
   ]
  },
  {
   "cell_type": "markdown",
   "metadata": {},
   "source": [
    "### Reflection\n",
    "\n",
    "Student adequately summarizes the end-to-end problem solution and discusses one or two particular aspects of the project they found interesting or difficult."
   ]
  },
  {
   "cell_type": "markdown",
   "metadata": {},
   "source": [
    "### Improvement\n",
    "\n",
    "Discussion is made as to how one aspect of the implementation could be improved. Potential solutions resulting from these improvements are considered and compared/contrasted to the current solution."
   ]
  },
  {
   "cell_type": "markdown",
   "metadata": {},
   "source": [
    "## References"
   ]
  },
  {
   "cell_type": "markdown",
   "metadata": {},
   "source": [
    "1. Inferring networks of substitutable and complementary products. J. McAuley, R. Pandey, J.\n",
    "Leskovec Knowledge Discovery and Data Mining, 2015.\n",
    "2. Image-based recommendations on styles and substitutes J. McAuley, C. Targett, J. Shi, A. van\n",
    "den Hengel SIGIR, 2015."
   ]
  },
  {
   "cell_type": "code",
   "execution_count": null,
   "metadata": {
    "collapsed": true
   },
   "outputs": [],
   "source": []
  }
 ],
 "metadata": {
  "anaconda-cloud": {},
  "kernelspec": {
   "display_name": "Python [conda root]",
   "language": "python",
   "name": "conda-root-py"
  },
  "language_info": {
   "codemirror_mode": {
    "name": "ipython",
    "version": 2
   },
   "file_extension": ".py",
   "mimetype": "text/x-python",
   "name": "python",
   "nbconvert_exporter": "python",
   "pygments_lexer": "ipython2",
   "version": "2.7.12"
  }
 },
 "nbformat": 4,
 "nbformat_minor": 1
}
