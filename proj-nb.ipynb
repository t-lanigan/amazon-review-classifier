{
 "cells": [
  {
   "cell_type": "markdown",
   "metadata": {},
   "source": [
    "# Amazon Review - Machine Learning Project\n",
    "Done as a final project for Udacity's machine learning nano degree. For more information, check our their [website](www.udacty.com).\n",
    " "
   ]
  },
  {
   "cell_type": "markdown",
   "metadata": {},
   "source": [
    "## Project Overview\n",
    "The quality of the comments made on internet forums has always suffered due to anonymity of it’s\n",
    "users. When users comments on, for instance, a YouTube video, there is no repercussion for what they\n",
    "say, and the dialogue generated is often not helpful. Different websites have tried different methods for\n",
    "extracting more useful comments. Reddit uses an upvote system, Quora fosters a community that\n",
    "values high quality responses over low quality ones, and Amazon allows for it’s users to to rate the\n",
    "“helpfulness” of reviews left on their products. Amazon’s system, in particular, then allows for the\n",
    "higher rated comments to be displayed at the top of the review forum so that new users can see the top\n",
    "rated comments in order to help them make their own purchasing decisions.\n",
    "\n",
    "Even though Amazon’s helpfulness rating system seems to work on the surface level, poor quality\n",
    "comments still seem to be at the top of their review forms. Having poor quality reviews hurts Amazon’s\n",
    "business, as a major reason that people are willing to buy consumer goods online without seeing the\n",
    "items themselves, is that they have access to others peoples opinions of the item. For example, a review\n",
    "at the top of an app called [“Friday Night at Freddies 4”](https://www.amazon.com/Five-Nights-at-Freddys-4/dp/B012J53LKY) is as follows:\n",
    "\n",
    ">“I love this game so much but at first I though it was lame but when I go in the game I can't\n",
    "beat the first night because cause I put it to full volume and I can't here the breathing\n",
    "bonnie strike at 4 am Chica at 5 and plus it not lame it's better than fnaf and fnaf 2 plus get\n",
    "this game when u buy fnaf”\n",
    "\n",
    "This comment, despite being at the top of the forum, is difficult to understand, a run on sentence, and\n",
    "full of spelling errors. The reason for the failure is part of the algorithm for determining the order of the\n",
    "reviews relies on how recently the review has been made. The offending review was the most recent,\n",
    "but it’s helpfulness score was far less than previous reviews. This illustrates the difficult balance that\n",
    "must be struck between showing the highest rated reviews, and showing the newest reviews, to be rated\n",
    "by the community. An ideal system would predict if a review is helpful or not, so that poor quality\n",
    "reviews would not need to be displayed the top."
   ]
  },
  {
   "cell_type": "markdown",
   "metadata": {},
   "source": [
    "### Problem Statement\n",
    "\n",
    "The problem being addressed in this project is the poor quality of Amazon reviews at the top of the\n",
    "forum despite the “helpfulness” rating system. The problem arises from the “free pass” given to new\n",
    "reviews to be placed at the top of the forum, for a chance to be rated by the community. The proposed\n",
    "solution to this problem is to use machine learning techniques to design a system that “pre-rates” new\n",
    "reviews on their “helpfulness” before they are given a position at the top of the forum. This way, poor\n",
    "quality reviews will be more unlikely to be shown at the top of the forum, as they do not get the “freepass” because they are new. The proposed system will use a set of Amazon review data to train itself to\n",
    "predict a helpfulness classification (helpful, or not helpful) for new input data.\n",
    "\n",
    "The data used for this project is provided by the University of California, San Diego and is available at Julian McAuley's [research page](http://jmcauley.ucsd.edu/data/amazon/). See the references at the end of this project for more information. As the original set is massive, we will only look at a subset of the data: the reviews for [apps for Android](http://snap.stanford.edu/data/amazon/productGraph/categoryFiles/reviews_Apps_for_Android_5.json.gz). "
   ]
  },
  {
   "cell_type": "markdown",
   "metadata": {},
   "source": [
    "### Metrics\n",
    "\n",
    "Since our problem is a binary classification problem (helpful or not helpful). We will use the ‘Receiver\n",
    "Operator Characteristic Area Under the Curve’ or `roc_auc score` to evaluate our model. The curve is created by plotting the true positive rate (TPR) against the false positive rate (FPR). The area under the curve is used to give a score to the model. If the area under the curve is 0.5, then the TPR is equal to the FPR, and the model is\n",
    "doing no better than random guessing. A perfect model would have an AUC of 1.0, meaning it has 100%\n",
    "TPR. For more information on the rox_auc score please visit the [sklearn page](http://scikit-learn.org/stable/modules/model_evaluation.html#roc-metrics). The University of Nebraska Medical Center, also has a good explanation [page.](http://gim.unmc.edu/dxtests/roc3.htm)"
   ]
  },
  {
   "cell_type": "markdown",
   "metadata": {},
   "source": [
    "## Analysis"
   ]
  },
  {
   "cell_type": "code",
   "execution_count": 1,
   "metadata": {
    "collapsed": false
   },
   "outputs": [
    {
     "name": "stderr",
     "output_type": "stream",
     "text": [
      "/home/tyler/anaconda2/lib/python2.7/site-packages/gensim/utils.py:1015: UserWarning: Pattern library is not installed, lemmatization won't be available.\n",
      "  warnings.warn(\"Pattern library is not installed, lemmatization won't be available.\")\n",
      "/home/tyler/anaconda2/lib/python2.7/site-packages/sklearn/cross_validation.py:44: DeprecationWarning: This module was deprecated in version 0.18 in favor of the model_selection module into which all the refactored classes and functions are moved. Also note that the interface of the new CV iterators are different from that of this module. This module will be removed in 0.20.\n",
      "  \"This module will be removed in 0.20.\", DeprecationWarning)\n"
     ]
    }
   ],
   "source": [
    "# These are all the modules we'll be using later. Make sure you can import them\n",
    "# before proceeding further.\n",
    "from __future__ import print_function\n",
    "import matplotlib.pyplot as plt\n",
    "import numpy as np\n",
    "import os\n",
    "import sys\n",
    "import unicodedata\n",
    "from six.moves.urllib.request import urlretrieve\n",
    "from six.moves import cPickle as pickle\n",
    "import pandas as pd\n",
    "import gzip\n",
    "import seaborn as sns\n",
    "import string\n",
    "\n",
    "import nltk\n",
    "from nltk.corpus import stopwords \n",
    "stops = set(stopwords.words(\"english\"))\n",
    "from gensim.models import Word2Vec\n",
    "from bs4 import BeautifulSoup \n",
    "import re\n",
    "from sklearn.cross_validation import train_test_split\n",
    "from sklearn.metrics import roc_auc_score, roc_curve\n",
    "\n",
    "from IPython.display import display # Allows the use of display() for DataFrames\n",
    "\n",
    "\n",
    "import warnings\n",
    "warnings.filterwarnings('ignore')\n",
    "\n",
    "# Config the matlotlib backend as plotting inline in IPython\n",
    "%matplotlib inline\n",
    "\n",
    "# Lets define some helpful constants\n",
    "DATASET_NAME = 'reviews_Apps_for_Android_5.json.gz'\n",
    "\n",
    "# A size for figures\n",
    "FIG_SIZE = (14,8)\n",
    "\n",
    "#Random state for classifiers\n",
    "RAN_STATE = 42\n"
   ]
  },
  {
   "cell_type": "markdown",
   "metadata": {},
   "source": [
    "### Data Exploration\n",
    "If a dataset is present, features and calculated statistics relevant to the problem have been reported and discussed, along with a sampling of the data. In lieu of a dataset, a thorough description of the input space or input data has been made. Abnormalities or characteristics about the data or input that need to be addressed have been identified.\n",
    "\n",
    "First we will check if we have already downloaded the dataset. If not, we will download it."
   ]
  },
  {
   "cell_type": "code",
   "execution_count": 2,
   "metadata": {
    "collapsed": false,
    "scrolled": true
   },
   "outputs": [
    {
     "name": "stdout",
     "output_type": "stream",
     "text": [
      "Found and verified reviews_Apps_for_Android_5.json.gz\n"
     ]
    }
   ],
   "source": [
    "url = 'http://snap.stanford.edu/data/amazon/productGraph/categoryFiles/'\n",
    "last_percent_reported = None\n",
    "\n",
    "def download_progress_hook(count, blockSize, totalSize):\n",
    "    \"\"\"A hook to report the progress of a download. This is mostly intended for users with\n",
    "    slow internet connections. Reports every 1% change in download progress.\n",
    "    \"\"\"\n",
    "    global last_percent_reported\n",
    "    percent = int(count * blockSize * 100 / totalSize)\n",
    "\n",
    "    if last_percent_reported != percent:\n",
    "        if percent % 5 == 0:\n",
    "            sys.stdout.write(\"%s%%\" % percent)\n",
    "            sys.stdout.flush()\n",
    "        else:\n",
    "            sys.stdout.write(\".\")\n",
    "            sys.stdout.flush()\n",
    "            \n",
    "        last_percent_reported = percent\n",
    "                \n",
    "def maybe_download(filename, expected_bytes, force=False):\n",
    "    \"\"\"Download a file if not present, and make sure it's the right size.\"\"\"\n",
    "    if force or not os.path.exists(filename):\n",
    "        print('Attempting to download:', filename) \n",
    "        filename, _ = urlretrieve(url + filename, filename, reporthook=download_progress_hook)\n",
    "        print('\\nDownload Complete!')\n",
    "    statinfo = os.stat(filename)\n",
    "    if statinfo.st_size == expected_bytes:\n",
    "        print('Found and verified', filename)\n",
    "    else:\n",
    "        raise Exception(\n",
    "            'Failed to verify ' + filename + '. Can you get to it with a browser?')\n",
    "    return filename\n",
    "\n",
    "test = maybe_download(DATASET_NAME, 95509687)\n"
   ]
  },
  {
   "cell_type": "markdown",
   "metadata": {},
   "source": [
    "We need to extract the data, and convert the data given in \"json\" to a dataframe in order to perform our analysis. To save time for later we will pickle the file."
   ]
  },
  {
   "cell_type": "code",
   "execution_count": 3,
   "metadata": {
    "collapsed": false
   },
   "outputs": [
    {
     "name": "stdout",
     "output_type": "stream",
     "text": [
      "Pickled file already present, loading...\n",
      "Pickle file loaded.\n"
     ]
    }
   ],
   "source": [
    "def parse(path):\n",
    "    g = gzip.open(path, 'rb')\n",
    "    for l in g:\n",
    "        yield eval(l)\n",
    "\n",
    "def getDF(path):\n",
    "    i = 0\n",
    "    data = {}\n",
    "    for d in parse(path):\n",
    "        data[i] = d\n",
    "        i += 1\n",
    "    return pd.DataFrame.from_dict(df, orient='index')\n",
    "\n",
    "#removes extensions and adds pickle.\n",
    "pickle_file_name = (DATASET_NAME[:-8]+'.pickle')\n",
    "\n",
    "#loads pickle if exists, extracts and pickles if it doesn't\n",
    "if os.path.exists(pickle_file_name):\n",
    "    print ('Pickled file already present, loading...')\n",
    "    data = pd.read_pickle(pickle_file_name)\n",
    "    print ('Pickle file loaded.')\n",
    "else:\n",
    "    data = getDF(DATASET_NAME)\n",
    "    data.to_pickle(pickle_file_name)\n",
    "\n"
   ]
  },
  {
   "cell_type": "markdown",
   "metadata": {},
   "source": [
    "OK now lets have a look at the data."
   ]
  },
  {
   "cell_type": "code",
   "execution_count": 4,
   "metadata": {
    "collapsed": false
   },
   "outputs": [
    {
     "data": {
      "text/html": [
       "<div>\n",
       "<table border=\"1\" class=\"dataframe\">\n",
       "  <thead>\n",
       "    <tr style=\"text-align: right;\">\n",
       "      <th></th>\n",
       "      <th>reviewerID</th>\n",
       "      <th>asin</th>\n",
       "      <th>reviewerName</th>\n",
       "      <th>helpful</th>\n",
       "      <th>unixReviewTime</th>\n",
       "      <th>reviewText</th>\n",
       "      <th>overall</th>\n",
       "      <th>reviewTime</th>\n",
       "      <th>summary</th>\n",
       "    </tr>\n",
       "  </thead>\n",
       "  <tbody>\n",
       "    <tr>\n",
       "      <th>0</th>\n",
       "      <td>A1N4O8VOJZTDVB</td>\n",
       "      <td>B004A9SDD8</td>\n",
       "      <td>Annette Yancey</td>\n",
       "      <td>[1, 1]</td>\n",
       "      <td>1383350400</td>\n",
       "      <td>Loves the song, so he really couldn't wait to ...</td>\n",
       "      <td>3.0</td>\n",
       "      <td>11 2, 2013</td>\n",
       "      <td>Really cute</td>\n",
       "    </tr>\n",
       "  </tbody>\n",
       "</table>\n",
       "</div>"
      ],
      "text/plain": [
       "       reviewerID        asin    reviewerName helpful  unixReviewTime  \\\n",
       "0  A1N4O8VOJZTDVB  B004A9SDD8  Annette Yancey  [1, 1]      1383350400   \n",
       "\n",
       "                                          reviewText  overall  reviewTime  \\\n",
       "0  Loves the song, so he really couldn't wait to ...      3.0  11 2, 2013   \n",
       "\n",
       "       summary  \n",
       "0  Really cute  "
      ]
     },
     "execution_count": 4,
     "metadata": {},
     "output_type": "execute_result"
    }
   ],
   "source": [
    "data.head(1)"
   ]
  },
  {
   "cell_type": "markdown",
   "metadata": {},
   "source": [
    "The `helpful` score can be explained as follows: a user can either rate the review as 'helpful’ or ‘not\n",
    "helpful’. The dataset records each of these in an array. For our problem we want to classify the email as\n",
    "either ‘helpful’ or not ‘helpful’. For training, this label can be generated by dividing the ‘helpful’\n",
    "ratings by the total ratings and seeing if it exceeds a certain threshold.\n",
    "\n",
    "Lets extract the information we need for this project:\n",
    "\n",
    "* The 'reviewText' will be used to generate features using natural language processing.\n",
    "* The score will be used as a feauture in our final model\n",
    "* The 'helpful' rating will be used to generate labels. We will train our model using these training labels. Predict the label using the test features, and measure the success of our model using the test labels. This will be explained more later.\n",
    "\n",
    "Other features that could be important would be the summary; however, in the interest of keeping this simple, we will exclude it from the analysis."
   ]
  },
  {
   "cell_type": "code",
   "execution_count": 5,
   "metadata": {
    "collapsed": false
   },
   "outputs": [
    {
     "name": "stdout",
     "output_type": "stream",
     "text": [
      "overall                0\n",
      "reviewText             0\n",
      "helpful_numerator      0\n",
      "helpful_denominator    0\n",
      "dtype: int64\n"
     ]
    }
   ],
   "source": [
    "#select the columns\n",
    "df = data.iloc[:, [6,5,3]]\n",
    "\n",
    "#split numerator and denominator\n",
    "df['helpful_numerator'] = df['helpful'].apply(lambda x: x[0])\n",
    "df['helpful_denominator'] = df['helpful'].apply(lambda x: x[1])\n",
    "\n",
    "# delete un-needed 'helpful catagory\n",
    "del df['helpful']\n",
    "\n",
    "#Check if we have any null values\n",
    "print (df.isnull().sum())\n"
   ]
  },
  {
   "cell_type": "markdown",
   "metadata": {},
   "source": [
    "Lets have a quick look at the stats.."
   ]
  },
  {
   "cell_type": "code",
   "execution_count": 6,
   "metadata": {
    "collapsed": false
   },
   "outputs": [
    {
     "data": {
      "text/html": [
       "<div>\n",
       "<table border=\"1\" class=\"dataframe\">\n",
       "  <thead>\n",
       "    <tr style=\"text-align: right;\">\n",
       "      <th></th>\n",
       "      <th>overall</th>\n",
       "      <th>helpful_numerator</th>\n",
       "      <th>helpful_denominator</th>\n",
       "    </tr>\n",
       "  </thead>\n",
       "  <tbody>\n",
       "    <tr>\n",
       "      <th>count</th>\n",
       "      <td>752937.000000</td>\n",
       "      <td>752937.000000</td>\n",
       "      <td>752937.000000</td>\n",
       "    </tr>\n",
       "    <tr>\n",
       "      <th>mean</th>\n",
       "      <td>3.968931</td>\n",
       "      <td>3.435937</td>\n",
       "      <td>4.473125</td>\n",
       "    </tr>\n",
       "    <tr>\n",
       "      <th>std</th>\n",
       "      <td>1.342484</td>\n",
       "      <td>37.328951</td>\n",
       "      <td>43.688824</td>\n",
       "    </tr>\n",
       "    <tr>\n",
       "      <th>min</th>\n",
       "      <td>1.000000</td>\n",
       "      <td>0.000000</td>\n",
       "      <td>0.000000</td>\n",
       "    </tr>\n",
       "    <tr>\n",
       "      <th>25%</th>\n",
       "      <td>3.000000</td>\n",
       "      <td>0.000000</td>\n",
       "      <td>0.000000</td>\n",
       "    </tr>\n",
       "    <tr>\n",
       "      <th>50%</th>\n",
       "      <td>5.000000</td>\n",
       "      <td>0.000000</td>\n",
       "      <td>0.000000</td>\n",
       "    </tr>\n",
       "    <tr>\n",
       "      <th>75%</th>\n",
       "      <td>5.000000</td>\n",
       "      <td>1.000000</td>\n",
       "      <td>2.000000</td>\n",
       "    </tr>\n",
       "    <tr>\n",
       "      <th>max</th>\n",
       "      <td>5.000000</td>\n",
       "      <td>8116.000000</td>\n",
       "      <td>9258.000000</td>\n",
       "    </tr>\n",
       "  </tbody>\n",
       "</table>\n",
       "</div>"
      ],
      "text/plain": [
       "             overall  helpful_numerator  helpful_denominator\n",
       "count  752937.000000      752937.000000        752937.000000\n",
       "mean        3.968931           3.435937             4.473125\n",
       "std         1.342484          37.328951            43.688824\n",
       "min         1.000000           0.000000             0.000000\n",
       "25%         3.000000           0.000000             0.000000\n",
       "50%         5.000000           0.000000             0.000000\n",
       "75%         5.000000           1.000000             2.000000\n",
       "max         5.000000        8116.000000          9258.000000"
      ]
     },
     "execution_count": 6,
     "metadata": {},
     "output_type": "execute_result"
    }
   ],
   "source": [
    "df.describe()"
   ]
  },
  {
   "cell_type": "markdown",
   "metadata": {},
   "source": [
    "There are clearly some outliers and weird numbers in here. Lets move on to some visualization."
   ]
  },
  {
   "cell_type": "markdown",
   "metadata": {},
   "source": [
    "### Exploratory Visualization\n",
    "A visualization has been provided that summarizes or extracts a relevant characteristic or feature about the dataset or input data with thorough discussion. Visual cues are clearly defined.\n",
    "\n",
    "Lets have a look at how our data is distributed."
   ]
  },
  {
   "cell_type": "code",
   "execution_count": 7,
   "metadata": {
    "collapsed": false
   },
   "outputs": [
    {
     "data": {
      "text/plain": [
       "<matplotlib.axes._subplots.AxesSubplot at 0x7f7208f63f90>"
      ]
     },
     "metadata": {},
     "output_type": "display_data"
    },
    {
     "data": {
      "image/png": "[encoded data removed]",
      "text/plain": [
       "<matplotlib.figure.Figure at 0x7f7208f63b50>"
      ]
     },
     "metadata": {},
     "output_type": "display_data"
    }
   ],
   "source": [
    "### Box Plot\n",
    "plt.figure(figsize=FIG_SIZE)\n",
    "plt.title('Box plot of Features')\n",
    "plt.ylabel('Spread')\n",
    "plt.xlabel('Features')\n",
    "\n",
    "display(sns.boxplot(df[df.columns]))"
   ]
  },
  {
   "cell_type": "markdown",
   "metadata": {},
   "source": [
    "This is pretty ugly, let's have a look at some of the outliers and make sure they are valid data."
   ]
  },
  {
   "cell_type": "code",
   "execution_count": 8,
   "metadata": {
    "collapsed": false
   },
   "outputs": [
    {
     "name": "stdout",
     "output_type": "stream",
     "text": [
      "510127\n",
      "510127\n"
     ]
    }
   ],
   "source": [
    "print (df['helpful_numerator'].idxmax(axis=0, skipna=True))\n",
    "print (df['helpful_denominator'].idxmax(axis = 0, skipna = True))"
   ]
  },
  {
   "cell_type": "code",
   "execution_count": 9,
   "metadata": {
    "collapsed": false
   },
   "outputs": [
    {
     "data": {
      "text/html": [
       "<div>\n",
       "<table border=\"1\" class=\"dataframe\">\n",
       "  <thead>\n",
       "    <tr style=\"text-align: right;\">\n",
       "      <th></th>\n",
       "      <th>overall</th>\n",
       "      <th>reviewText</th>\n",
       "      <th>helpful_numerator</th>\n",
       "      <th>helpful_denominator</th>\n",
       "    </tr>\n",
       "  </thead>\n",
       "  <tbody>\n",
       "    <tr>\n",
       "      <th>510127</th>\n",
       "      <td>5.0</td>\n",
       "      <td>This game is the perfect sequel to Temple Run....</td>\n",
       "      <td>8116</td>\n",
       "      <td>9258</td>\n",
       "    </tr>\n",
       "  </tbody>\n",
       "</table>\n",
       "</div>"
      ],
      "text/plain": [
       "        overall                                         reviewText  \\\n",
       "510127      5.0  This game is the perfect sequel to Temple Run....   \n",
       "\n",
       "        helpful_numerator  helpful_denominator  \n",
       "510127               8116                 9258  "
      ]
     },
     "execution_count": 9,
     "metadata": {},
     "output_type": "execute_result"
    }
   ],
   "source": [
    "df.iloc[[510127]]"
   ]
  },
  {
   "cell_type": "markdown",
   "metadata": {},
   "source": [
    "This looks fine to me. Moving on."
   ]
  },
  {
   "cell_type": "markdown",
   "metadata": {},
   "source": [
    "### Algorithms and Techniques\n",
    "Algorithms and techniques used in the project are thoroughly discussed and properly justified based on the characteristics of the problem."
   ]
  },
  {
   "cell_type": "markdown",
   "metadata": {},
   "source": [
    "### Benchmark\n",
    "Student clearly defines a benchmark result or threshold for comparing performances of solutions obtained."
   ]
  },
  {
   "cell_type": "markdown",
   "metadata": {},
   "source": [
    "## Methodology"
   ]
  },
  {
   "cell_type": "markdown",
   "metadata": {},
   "source": [
    "### Data Preprocessing\n",
    "All preprocessing steps have been clearly documented. Abnormalities or characteristics about the data or input that needed to be addressed have been corrected. If no data preprocessing is necessary, it has been clearly justified.\n",
    "\n",
    "Data that has had less than 10 ratings will first be trimmed out of the dataset. There are a significant amount of reviews, and many do not face the scrutiny of people reading them. So these data points will influence our analysis, as they could be good reviews, but have no one read them."
   ]
  },
  {
   "cell_type": "code",
   "execution_count": 10,
   "metadata": {
    "collapsed": false
   },
   "outputs": [
    {
     "data": {
      "text/plain": [
       "(47932, 4)"
      ]
     },
     "execution_count": 10,
     "metadata": {},
     "output_type": "execute_result"
    }
   ],
   "source": [
    "#include reviews that have more than 10 helpfulness data point only\n",
    "df1 = df[(df.helpful_denominator > 10)].copy()\n",
    "df1.shape"
   ]
  },
  {
   "cell_type": "markdown",
   "metadata": {},
   "source": [
    "In order to perform our analysis, we wish to determine if a given review text is helpful or not. We need a way to map the existing data to this binary classification. The chosen method is to use a threshold of 'helpful_numerator' divided by 'helpful_denominator'. In other words, the ratio of the people who found the review helpful over the amount of people who rated the review as helpful or unhelpful. If this ratio exceeds a certain threshold value, we can label the training data as 'helpful' = 1, or 'non-helpful' = 0"
   ]
  },
  {
   "cell_type": "code",
   "execution_count": 11,
   "metadata": {
    "collapsed": false
   },
   "outputs": [
    {
     "data": {
      "text/html": [
       "<div>\n",
       "<table border=\"1\" class=\"dataframe\">\n",
       "  <thead>\n",
       "    <tr style=\"text-align: right;\">\n",
       "      <th></th>\n",
       "      <th>overall</th>\n",
       "      <th>reviewText</th>\n",
       "      <th>helpful_numerator</th>\n",
       "      <th>helpful_denominator</th>\n",
       "      <th>Helpful</th>\n",
       "    </tr>\n",
       "  </thead>\n",
       "  <tbody>\n",
       "    <tr>\n",
       "      <th>33</th>\n",
       "      <td>3.0</td>\n",
       "      <td>I did the 7-day trial and was impressed, but a...</td>\n",
       "      <td>15</td>\n",
       "      <td>20</td>\n",
       "      <td>1</td>\n",
       "    </tr>\n",
       "    <tr>\n",
       "      <th>94</th>\n",
       "      <td>5.0</td>\n",
       "      <td>This app is great!  It has a daily verse, a da...</td>\n",
       "      <td>96</td>\n",
       "      <td>107</td>\n",
       "      <td>1</td>\n",
       "    </tr>\n",
       "    <tr>\n",
       "      <th>284</th>\n",
       "      <td>2.0</td>\n",
       "      <td>This app simply latches on to Google maps and ...</td>\n",
       "      <td>11</td>\n",
       "      <td>23</td>\n",
       "      <td>0</td>\n",
       "    </tr>\n",
       "  </tbody>\n",
       "</table>\n",
       "</div>"
      ],
      "text/plain": [
       "     overall                                         reviewText  \\\n",
       "33       3.0  I did the 7-day trial and was impressed, but a...   \n",
       "94       5.0  This app is great!  It has a daily verse, a da...   \n",
       "284      2.0  This app simply latches on to Google maps and ...   \n",
       "\n",
       "     helpful_numerator  helpful_denominator  Helpful  \n",
       "33                  15                   20        1  \n",
       "94                  96                  107        1  \n",
       "284                 11                   23        0  "
      ]
     },
     "execution_count": 11,
     "metadata": {},
     "output_type": "execute_result"
    }
   ],
   "source": [
    "#transform Helpfulness into a binary variable with 0.50 ratio\n",
    "threshold = 0.5\n",
    "df1.loc[:, 'Helpful'] = np.where(df1.loc[:, 'helpful_numerator'] \\\n",
    "                                 / df1.loc[:, 'helpful_denominator'] > threshold, 1, 0)\n",
    "df1.head(3)"
   ]
  },
  {
   "cell_type": "code",
   "execution_count": 12,
   "metadata": {
    "collapsed": false,
    "scrolled": true
   },
   "outputs": [
    {
     "name": "stdout",
     "output_type": "stream",
     "text": [
      "Count:\n"
     ]
    },
    {
     "data": {
      "text/html": [
       "<div>\n",
       "<table border=\"1\" class=\"dataframe\">\n",
       "  <thead>\n",
       "    <tr style=\"text-align: right;\">\n",
       "      <th></th>\n",
       "      <th>overall</th>\n",
       "      <th>reviewText</th>\n",
       "      <th>helpful_numerator</th>\n",
       "      <th>helpful_denominator</th>\n",
       "    </tr>\n",
       "    <tr>\n",
       "      <th>Helpful</th>\n",
       "      <th></th>\n",
       "      <th></th>\n",
       "      <th></th>\n",
       "      <th></th>\n",
       "    </tr>\n",
       "  </thead>\n",
       "  <tbody>\n",
       "    <tr>\n",
       "      <th>0</th>\n",
       "      <td>6210</td>\n",
       "      <td>6210</td>\n",
       "      <td>6210</td>\n",
       "      <td>6210</td>\n",
       "    </tr>\n",
       "    <tr>\n",
       "      <th>1</th>\n",
       "      <td>41722</td>\n",
       "      <td>41722</td>\n",
       "      <td>41722</td>\n",
       "      <td>41722</td>\n",
       "    </tr>\n",
       "  </tbody>\n",
       "</table>\n",
       "</div>"
      ],
      "text/plain": [
       "         overall  reviewText  helpful_numerator  helpful_denominator\n",
       "Helpful                                                             \n",
       "0           6210        6210               6210                 6210\n",
       "1          41722       41722              41722                41722"
      ]
     },
     "metadata": {},
     "output_type": "display_data"
    }
   ],
   "source": [
    "#Lets check the balance\n",
    "print ('Count:')\n",
    "display(df1.groupby('Helpful').count())\n"
   ]
  },
  {
   "cell_type": "code",
   "execution_count": 13,
   "metadata": {
    "collapsed": false
   },
   "outputs": [
    {
     "data": {
      "image/png": "[encoded data removed]",
      "text/plain": [
       "<matplotlib.figure.Figure at 0x7f7208f63a50>"
      ]
     },
     "metadata": {},
     "output_type": "display_data"
    }
   ],
   "source": [
    "#visualize correlation of the data\n",
    "correlations = df1.corr()\n",
    "plt.figure(figsize = FIG_SIZE)\n",
    "plt.title(\"Heatmap of correlations in each catagory\")\n",
    "_ = sns.heatmap(correlations, vmin=0, vmax=1, annot=True)\n"
   ]
  },
  {
   "cell_type": "markdown",
   "metadata": {},
   "source": [
    "We can see that our dataset in unbalanced, with roughly 7 times as many effective reviews as ineffective reviews. This means that when we are splitting our data later, we will need to use a stratified shuffle so that both categories have proportional representation in training.\n",
    "\n",
    "We can also see that there is a small correlation between the score and the 'Helpful' rating. It is good that this correlation is small, or else our job would be very easy and we wouldn't need to generate features from the reviewText at all, we could just look at the score of the review. "
   ]
  },
  {
   "cell_type": "markdown",
   "metadata": {},
   "source": [
    "### Text Feature Generation\n",
    "Now lets convert the text to lower case so we can run our natural language processing to produce features. We will also remove punctuation. Removing punctuation may seem like it should not be done in the case of this problem, as not having punctuation will make a review harder to understand. This is a trade-off that we must consider as if you have punctuation, it will cause the learning algorithm to behave poorly."
   ]
  },
  {
   "cell_type": "code",
   "execution_count": 14,
   "metadata": {
    "collapsed": false
   },
   "outputs": [
    {
     "data": {
      "text/plain": [
       "33     i did the 7day trial and was impressed but am ...\n",
       "94     this app is great  it has a daily verse a dail...\n",
       "284    this app simply latches on to google maps and ...\n",
       "288    unable to move to sd card uninstalled cannot r...\n",
       "Name: reviewText, dtype: object"
      ]
     },
     "execution_count": 14,
     "metadata": {},
     "output_type": "execute_result"
    }
   ],
   "source": [
    "# convert text to lowercase\n",
    "df1.loc[:, 'reviewText'] = df1['reviewText'].str.lower()\n",
    "\n",
    "def remove_punctuation(text):\n",
    "    return text.translate(None, string.punctuation.translate(None, '\"'))\n",
    "\n",
    "df1['reviewText']=df1['reviewText'].apply( lambda x: remove_punctuation(x))\n",
    "df1['reviewText'].head(4)"
   ]
  },
  {
   "cell_type": "markdown",
   "metadata": {},
   "source": [
    "In order to generate more features we will use the [TF-IDF vectorizer](http://scikit-learn.org/stable/modules/generated/sklearn.feature_extraction.text.TfidfVectorizer.html) from the sci-kit learn library. We will also use the [NLTK](http://www.nltk.org/) library. The pre-processing methods that we are going to employ are as follows:\n",
    "\n",
    "* __Stemming__ - Stemming means to take off the suffixes of the stemmed word. Therefore words such as \"run\" and \"running\" would both be represented as \"run\". This allows for our algorithms to more accurate find trends in the \"meanings\" of sentences (e.g \"the sun is shining\" and \"the sun shines\" will more accurately be associated with the same meaning. It will reduce the total amount of features that we will generate.\n",
    "* __Tolkenizing__- Splits sentences up into single words. This is needed to generate our TFIDF features.\n",
    "* __Remove Stop Words__- This moves words such as \"the\" \"a\" and \"it\" as shown in the English stop words [corpus](http://www.nltk.org/howto/corpus.html). These will only clutter up our learning algorithm. Admittingly, sentences without these words are hard to understand, and ideally they should be kept, but it is again a trade-off.\n",
    "* __ngrams__- Makes groups of words that are 'n' long. E.g the 2-grams for the sentence \"The shaggy dog\" are [The, shaggy], [The, dog] and [shaggy, dog]. Weving more than that is computationally expensive for my computer. will stick to 2-grams and 1-grams for now. Having more than that is computationally expensive.\n",
    "\n",
    "Finally we will generate TF-IDF scores for each of the stemmed and tolkenized words and ngrams. TF-IDF is short for _Term Frequency Inverse Document frequency_. TF-IDF is a numerical statistic that is intended to reflect how important a word is to a document in a collection or corpus. It is often used as a weighting factor in information retrieval and text mining. For more information check out this [link.](http://www.tfidf.com/)\n",
    "\n",
    "For our vectorizer, we will also set the min_df to 0.001. This is a cheap way of getting rid of spelling mistakes. Words that appear this infrequently are most likely typos and are uninteresting to our algorithm."
   ]
  },
  {
   "cell_type": "code",
   "execution_count": 15,
   "metadata": {
    "collapsed": false,
    "scrolled": true
   },
   "outputs": [
    {
     "data": {
      "text/plain": [
       "(47932, 445)"
      ]
     },
     "execution_count": 15,
     "metadata": {},
     "output_type": "execute_result"
    }
   ],
   "source": [
    "#tokenize text with Tfidf\n",
    "from sklearn.feature_extraction.text import TfidfVectorizer\n",
    "from nltk.stem.snowball import SnowballStemmer\n",
    "\n",
    "#create a stemmer\n",
    "stemmer = SnowballStemmer(\"english\")\n",
    "\n",
    "\n",
    "#define our own tokenizing function that we will pass into the TFIDFVectorizer. We will also stem the words here.\n",
    "def tokens(x):\n",
    "    x = x.split()\n",
    "    stems = []\n",
    "    [stems.append(stemmer.stem(word)) for word in x]\n",
    "    return stems\n",
    "\n",
    "#define the vectorizer\n",
    "vectorizer = TfidfVectorizer(tokenizer = tokens, stop_words = 'english', ngram_range=(1, 1), min_df = 0.01)\n",
    "#fit the vectorizers to the data.\n",
    "features = vectorizer.fit_transform(df1['reviewText'])\n",
    "\n",
    "\n",
    "vocab = vectorizer.get_feature_names()\n",
    "features.shape\n",
    "\n",
    "\n"
   ]
  },
  {
   "cell_type": "markdown",
   "metadata": {},
   "source": [
    "We have now generated all of the features that we are going to need. \n"
   ]
  },
  {
   "cell_type": "markdown",
   "metadata": {},
   "source": [
    "### Benchmark model (Bag of Words)\n",
    "In order to establish a baseline for the project, we will use a Bag of Words model. A Bag of Words model is trained entirely using the TFIDF features that we just generated. Now we will shuffle and split the data into 80% training and 20% testing."
   ]
  },
  {
   "cell_type": "code",
   "execution_count": 57,
   "metadata": {
    "collapsed": false
   },
   "outputs": [],
   "source": [
    "from sklearn.cross_validation import train_test_split\n",
    "X_train, X_test, y_train, y_test = train_test_split(features,df1['Helpful'], test_size=0.2, random_state=RAN_STATE)"
   ]
  },
  {
   "cell_type": "markdown",
   "metadata": {},
   "source": [
    "The benefit to splitting the data into testing and training sets is that this allows simulated evaluation of how well the model is performing before using it in the real world to make predictions.\n",
    "If there was no testing set, there would be no way of realistically evaluating the model as you would only be able to measure it's performace on data to which it's already been exposed. This will result in a false sense of confidence in how well the model performs."
   ]
  },
  {
   "cell_type": "markdown",
   "metadata": {},
   "source": [
    "### Grid Search\n",
    "\n",
    "The grid search technique works by generating a grid of all possible provided parameter combinations. It then evaluates a model using a validation set based on every combination of parameters in the grid. It is used to find the optimum set of parameters for a learning algorithm given a data set.\n"
   ]
  },
  {
   "cell_type": "markdown",
   "metadata": {},
   "source": [
    "### Cross-Validation\n",
    "The k-folds validation training technique creates multiple testing and training sets and trains a model on each, averaging the results. The splitting method is to divide the data into separate bins (for example k = 5), train on bins 1 to k-1 and test on bin k. The next fold trains on bins 2 to k and tests on bin 1 and so on, until all of the bins have acted as a test bin. This effectively trains and tests the models on all of the data without over-fitting to the data.\n",
    "\n",
    "The benefits that this provides for grid search while optimizing the model is that there is less of a chance that the final model won't be optimized to data that could potentially have a bias. For example, if somehow, all of the training data didn't contain a unique data point (such as a high MEDV value for a low RM) the final model would be very biased not predict this scenario, and the optimization will make that worse. However, with k-folds validation, one of the trained models will see the unique data point and the result will be reflected in the final averaged model."
   ]
  },
  {
   "cell_type": "code",
   "execution_count": 17,
   "metadata": {
    "collapsed": false
   },
   "outputs": [
    {
     "data": {
      "text/plain": [
       "[mean: 0.62100, std: 0.00886, params: {'C': 1e-05, 'class_weight': None},\n",
       " mean: 0.71721, std: 0.00878, params: {'C': 1e-05, 'class_weight': 'balanced'},\n",
       " mean: 0.63316, std: 0.00883, params: {'C': 0.0001, 'class_weight': None},\n",
       " mean: 0.71759, std: 0.00881, params: {'C': 0.0001, 'class_weight': 'balanced'},\n",
       " mean: 0.68943, std: 0.00909, params: {'C': 0.001, 'class_weight': None},\n",
       " mean: 0.72108, std: 0.00903, params: {'C': 0.001, 'class_weight': 'balanced'},\n",
       " mean: 0.73067, std: 0.00992, params: {'C': 0.01, 'class_weight': None},\n",
       " mean: 0.73651, std: 0.00978, params: {'C': 0.01, 'class_weight': 'balanced'},\n",
       " mean: 0.74680, std: 0.01027, params: {'C': 0.1, 'class_weight': None},\n",
       " mean: 0.74839, std: 0.00984, params: {'C': 0.1, 'class_weight': 'balanced'},\n",
       " mean: 0.74671, std: 0.00979, params: {'C': 1, 'class_weight': None},\n",
       " mean: 0.74500, std: 0.00967, params: {'C': 1, 'class_weight': 'balanced'},\n",
       " mean: 0.74388, std: 0.00977, params: {'C': 10, 'class_weight': None},\n",
       " mean: 0.74291, std: 0.00966, params: {'C': 10, 'class_weight': 'balanced'},\n",
       " mean: 0.74336, std: 0.00979, params: {'C': 100, 'class_weight': None},\n",
       " mean: 0.74262, std: 0.00966, params: {'C': 100, 'class_weight': 'balanced'},\n",
       " mean: 0.74330, std: 0.00979, params: {'C': 1000, 'class_weight': None},\n",
       " mean: 0.74260, std: 0.00965, params: {'C': 1000, 'class_weight': 'balanced'},\n",
       " mean: 0.74330, std: 0.00979, params: {'C': 10000, 'class_weight': None},\n",
       " mean: 0.74259, std: 0.00965, params: {'C': 10000, 'class_weight': 'balanced'},\n",
       " mean: 0.74330, std: 0.00979, params: {'C': 100000, 'class_weight': None},\n",
       " mean: 0.74259, std: 0.00965, params: {'C': 100000, 'class_weight': 'balanced'},\n",
       " mean: 0.74330, std: 0.00979, params: {'C': 1000000, 'class_weight': None},\n",
       " mean: 0.74259, std: 0.00965, params: {'C': 1000000, 'class_weight': 'balanced'},\n",
       " mean: 0.74330, std: 0.00980, params: {'C': 10000000, 'class_weight': None},\n",
       " mean: 0.74259, std: 0.00965, params: {'C': 10000000, 'class_weight': 'balanced'},\n",
       " mean: 0.74330, std: 0.00979, params: {'C': 100000000, 'class_weight': None},\n",
       " mean: 0.74259, std: 0.00965, params: {'C': 100000000, 'class_weight': 'balanced'},\n",
       " mean: 0.74330, std: 0.00979, params: {'C': 1000000000, 'class_weight': None},\n",
       " mean: 0.74259, std: 0.00965, params: {'C': 1000000000, 'class_weight': 'balanced'}]"
      ]
     },
     "execution_count": 17,
     "metadata": {},
     "output_type": "execute_result"
    }
   ],
   "source": [
    "#find best logistic regression parameters using grid search and cross validation.\n",
    "from sklearn import grid_search, cross_validation\n",
    "from sklearn.linear_model import LogisticRegression\n",
    "\n",
    "\n",
    "gs = grid_search.GridSearchCV(\n",
    "    estimator=LogisticRegression(),\n",
    "    param_grid={'C': [10**i for i in range(-5,10)], 'class_weight': [None, 'balanced']},\n",
    "    cv=cross_validation.StratifiedKFold(y_train,n_folds=5),\n",
    "    scoring='roc_auc'\n",
    ")\n",
    "\n",
    "gs.fit(X_train, y_train)\n",
    "gs.grid_scores_"
   ]
  },
  {
   "cell_type": "markdown",
   "metadata": {},
   "source": [
    "We can see that the best classifier has a 'C' value of 0.1 and a 'class_weight' = 'balanced'. We will now use this to make our predictions and plot the ROC curve. Below, the `predict_proba` function gives us the probability that the data-point lies in each class ('helpful' or 'non-helpful')."
   ]
  },
  {
   "cell_type": "code",
   "execution_count": 68,
   "metadata": {
    "collapsed": false,
    "scrolled": true
   },
   "outputs": [
    {
     "data": {
      "text/plain": [
       "<function matplotlib.pyplot.show>"
      ]
     },
     "execution_count": 68,
     "metadata": {},
     "output_type": "execute_result"
    },
    {
     "data": {
      "image/png": "[encoded data removed]",
      "text/plain": [
       "<matplotlib.figure.Figure at 0x7f719b56af90>"
      ]
     },
     "metadata": {},
     "output_type": "display_data"
    }
   ],
   "source": [
    "from sklearn.metrics import roc_auc_score, roc_curve\n",
    "from sklearn.ensemble import AdaBoostClassifier\n",
    "clf = AdaBoostClassifier()\n",
    "clf = clf.fit(X_train,y_train)\n",
    "probas =clf.predict_proba(X_test)\n",
    "plt.figure(figsize = FIG_SIZE)\n",
    "plt.plot(roc_curve(y_test, probas[:,1])[0], roc_curve(y_test, probas[:,1])[1])\n",
    "plt.title('ROC Curve for Helpful Rating')\n",
    "plt.grid()\n",
    "plt.xlabel('False Positive Rate (1 - Specificity)')\n",
    "plt.ylabel('True Positive Rate (Sensitivity)')\n",
    "plt.show"
   ]
  },
  {
   "cell_type": "code",
   "execution_count": 69,
   "metadata": {
    "collapsed": false
   },
   "outputs": [
    {
     "data": {
      "text/plain": [
       "0.75205169373081937"
      ]
     },
     "execution_count": 69,
     "metadata": {},
     "output_type": "execute_result"
    }
   ],
   "source": [
    "# ROC/AUC score\n",
    "roc_auc_score(y_test, probas[:,1].T)"
   ]
  },
  {
   "cell_type": "markdown",
   "metadata": {},
   "source": [
    "The ROC_AUC score for our benchmark model is 0.7485. Let see if we can improve this."
   ]
  },
  {
   "cell_type": "markdown",
   "metadata": {},
   "source": [
    "### Statistical nomenclature\n",
    "Before we continue, here is a small note on some statistical terms.\n",
    "* __Specificity__: The true negative rate. I.e the amount of true negatives that are predicted.\n",
    "* __Sensitivity__: The true positive rate. Also know as the _Recall_.\n",
    "* __Precision__: The true positives divided by the total amount of positives."
   ]
  },
  {
   "cell_type": "markdown",
   "metadata": {},
   "source": [
    "## Refinement\n",
    "\n",
    "The process of improving upon the algorithms and techniques used is clearly documented. Both the initial and final solutions are reported, along with intermediate solutions, if necessary.\n",
    "\n",
    "In order to improve our results, we are going to used the Word2Vec algorithm. Much of this code is taken from the [tutorial](https://www.kaggle.com/c/word2vec-nlp-tutorial/details/part-2-word-vectors) on word2Vec on the kaggle website"
   ]
  },
  {
   "cell_type": "code",
   "execution_count": 20,
   "metadata": {
    "collapsed": true
   },
   "outputs": [],
   "source": [
    "def review_to_words( review ):\n",
    "    \"\"\"\n",
    "    Return a list of cleaned word tokens from the raw review\n",
    "    \n",
    "    \"\"\"\n",
    "        \n",
    "    #Remove any HTML tags and convert to lower case\n",
    "    review_text = BeautifulSoup(review).get_text().lower() \n",
    "    \n",
    "    #Replace smiliey and frown faces, ! and ? with coded word SM{int} in case these are valuable\n",
    "    review_text=re.sub(\"(:\\))\",r' SM1',review_text)\n",
    "    review_text=re.sub(\"(:\\()\",r' SM2',review_text)\n",
    "    review_text=re.sub(\"(!)\",r' SM3',review_text)\n",
    "    review_text=re.sub(\"(\\?)\",r' SM4',review_text)\n",
    "    \n",
    "    #keep 'not' and the next word as negation may be important\n",
    "    review_text=re.sub(r\"not\\s\\b(.*?)\\b\", r\"not_\\1\", review_text)\n",
    "    \n",
    "    #keep letters and the coded words above, replace the rest with whitespace\n",
    "    nonnumbers_only=re.sub(\"[^a-zA-Z\\_(SM\\d)]\",\" \",review_text)  \n",
    "    \n",
    "    #Split into individual words on whitespace\n",
    "    words = nonnumbers_only.split()                             \n",
    "    \n",
    "    #Remove stop words\n",
    "    words = [w for w in words if not w in stops]   \n",
    "    \n",
    "    return (words)\n",
    "\n",
    "\n",
    "\n",
    "def avg_word_vectors(wordlist,size):\n",
    "    \"\"\"\n",
    "    returns a vector of zero for reviews containing words where none of them\n",
    "    met the min_count or were not seen in the training set\n",
    "    \n",
    "    Otherwise return an average of the embeddings vectors\n",
    "    \n",
    "    \"\"\"\n",
    "    \n",
    "    sumvec=np.zeros(shape=(1,size))\n",
    "    wordcnt=0\n",
    "    \n",
    "    for w in wordlist:\n",
    "        if w in model:\n",
    "            sumvec += model[w]\n",
    "            wordcnt +=1\n",
    "    \n",
    "    if wordcnt ==0:\n",
    "        return sumvec\n",
    "    \n",
    "    else:\n",
    "        return sumvec / wordcnt"
   ]
  },
  {
   "cell_type": "code",
   "execution_count": 21,
   "metadata": {
    "collapsed": false
   },
   "outputs": [
    {
     "data": {
      "text/html": [
       "<div>\n",
       "<table border=\"1\" class=\"dataframe\">\n",
       "  <thead>\n",
       "    <tr style=\"text-align: right;\">\n",
       "      <th></th>\n",
       "      <th>overall</th>\n",
       "      <th>reviewText</th>\n",
       "      <th>helpful_numerator</th>\n",
       "      <th>helpful_denominator</th>\n",
       "      <th>Helpful</th>\n",
       "    </tr>\n",
       "  </thead>\n",
       "  <tbody>\n",
       "    <tr>\n",
       "      <th>33</th>\n",
       "      <td>3.0</td>\n",
       "      <td>i did the 7day trial and was impressed but am ...</td>\n",
       "      <td>15</td>\n",
       "      <td>20</td>\n",
       "      <td>1</td>\n",
       "    </tr>\n",
       "  </tbody>\n",
       "</table>\n",
       "</div>"
      ],
      "text/plain": [
       "    overall                                         reviewText  \\\n",
       "33      3.0  i did the 7day trial and was impressed but am ...   \n",
       "\n",
       "    helpful_numerator  helpful_denominator  Helpful  \n",
       "33                 15                   20        1  "
      ]
     },
     "execution_count": 21,
     "metadata": {},
     "output_type": "execute_result"
    }
   ],
   "source": [
    "df1.head(1)"
   ]
  },
  {
   "cell_type": "markdown",
   "metadata": {},
   "source": [
    "Messing around with stuff."
   ]
  },
  {
   "cell_type": "code",
   "execution_count": 22,
   "metadata": {
    "collapsed": false
   },
   "outputs": [],
   "source": [
    "df1['word_list']=df1['reviewText'].apply(review_to_words)"
   ]
  },
  {
   "cell_type": "code",
   "execution_count": 23,
   "metadata": {
    "collapsed": false,
    "scrolled": true
   },
   "outputs": [],
   "source": [
    "X_train, X_test, y_train, y_test = train_test_split(df1['word_list'], df1['Helpful'], \\\n",
    "                                                    test_size=0.2, random_state=RAN_STATE)\n",
    "\n",
    "#size of hidden layer (length of continuous word representation)\n",
    "dimsize=400\n",
    "\n",
    "#train word2vec on 80% of training data\n",
    "model = Word2Vec(X_train.values, size=dimsize)\n",
    "\n",
    "#create average vector for train and test from model\n",
    "#returned list of numpy arrays are then stacked \n",
    "X_train=np.concatenate([avg_word_vectors(w,dimsize) for w in X_train])\n",
    "X_test=np.concatenate([avg_word_vectors(w,dimsize) for w in X_test])\n"
   ]
  },
  {
   "cell_type": "code",
   "execution_count": 25,
   "metadata": {
    "collapsed": false
   },
   "outputs": [
    {
     "data": {
      "text/plain": [
       "0.72789210068170729"
      ]
     },
     "execution_count": 25,
     "metadata": {},
     "output_type": "execute_result"
    }
   ],
   "source": [
    "# basic logistic regression with SGD\n",
    "\n",
    "clf = gs.best_estimator_\n",
    "clf.fit(X_train, y_train)\n",
    "p=clf.predict_proba(X_test)\n",
    "roc_auc_score(y_test,p[:,1])"
   ]
  },
  {
   "cell_type": "code",
   "execution_count": 26,
   "metadata": {
    "collapsed": true
   },
   "outputs": [],
   "source": [
    "from sklearn.cluster import KMeans\n",
    "from sklearn import metrics\n",
    "\n",
    "model = KMeans(n_clusters=4, init='k-means++', max_iter=100, n_init=1,random_state=5)"
   ]
  },
  {
   "cell_type": "code",
   "execution_count": 28,
   "metadata": {
    "collapsed": false
   },
   "outputs": [
    {
     "data": {
      "text/plain": [
       "[u'play',\n",
       " u'good',\n",
       " u'old',\n",
       " u'dont',\n",
       " u'just',\n",
       " u'app',\n",
       " u'great',\n",
       " u'free',\n",
       " u'realli',\n",
       " u'download',\n",
       " u'game',\n",
       " u'veri',\n",
       " u'love',\n",
       " u'kindl',\n",
       " u'kid',\n",
       " u'tri',\n",
       " u'use',\n",
       " u'like',\n",
       " u'work',\n",
       " u'time',\n",
       " u'fun']"
      ]
     },
     "execution_count": 28,
     "metadata": {},
     "output_type": "execute_result"
    }
   ],
   "source": [
    "X_train = vectorizer.transform(df1['reviewText'])\n",
    "vocab = vectorizer.get_feature_names()\n",
    "sse_err = []\n",
    "res = model.fit(X_train)\n",
    "vocab = np.array(vocab)\n",
    "cluster_centers = np.array(res.cluster_centers_)\n",
    "sorted_vals = [res.cluster_centers_[i].argsort() for i in range(0,np.shape(res.cluster_centers_)[0])]\n",
    "words=set()\n",
    "for i in range(len(res.cluster_centers_)):\n",
    "    words = words.union(set(vocab[sorted_vals[i][-10:]]))\n",
    "words=list(words)\n",
    "\n",
    "#top 10 words for each cluster\n",
    "words"
   ]
  },
  {
   "cell_type": "code",
   "execution_count": 29,
   "metadata": {
    "collapsed": true
   },
   "outputs": [],
   "source": [
    "#add top words to train set\n",
    "train_set=X_train[:,[np.argwhere(vocab==i)[0][0] for i in words]]"
   ]
  },
  {
   "cell_type": "code",
   "execution_count": 33,
   "metadata": {
    "collapsed": false
   },
   "outputs": [
    {
     "data": {
      "text/html": [
       "<div>\n",
       "<table border=\"1\" class=\"dataframe\">\n",
       "  <thead>\n",
       "    <tr style=\"text-align: right;\">\n",
       "      <th></th>\n",
       "      <th>overall</th>\n",
       "      <th>reviewText</th>\n",
       "      <th>helpful_numerator</th>\n",
       "      <th>helpful_denominator</th>\n",
       "      <th>Helpful</th>\n",
       "      <th>word_list</th>\n",
       "    </tr>\n",
       "    <tr>\n",
       "      <th>cluster</th>\n",
       "      <th></th>\n",
       "      <th></th>\n",
       "      <th></th>\n",
       "      <th></th>\n",
       "      <th></th>\n",
       "      <th></th>\n",
       "    </tr>\n",
       "  </thead>\n",
       "  <tbody>\n",
       "    <tr>\n",
       "      <th>0</th>\n",
       "      <td>18646</td>\n",
       "      <td>18646</td>\n",
       "      <td>18646</td>\n",
       "      <td>18646</td>\n",
       "      <td>18646</td>\n",
       "      <td>18646</td>\n",
       "    </tr>\n",
       "    <tr>\n",
       "      <th>1</th>\n",
       "      <td>10201</td>\n",
       "      <td>10201</td>\n",
       "      <td>10201</td>\n",
       "      <td>10201</td>\n",
       "      <td>10201</td>\n",
       "      <td>10201</td>\n",
       "    </tr>\n",
       "    <tr>\n",
       "      <th>2</th>\n",
       "      <td>13400</td>\n",
       "      <td>13400</td>\n",
       "      <td>13400</td>\n",
       "      <td>13400</td>\n",
       "      <td>13400</td>\n",
       "      <td>13400</td>\n",
       "    </tr>\n",
       "    <tr>\n",
       "      <th>3</th>\n",
       "      <td>5685</td>\n",
       "      <td>5685</td>\n",
       "      <td>5685</td>\n",
       "      <td>5685</td>\n",
       "      <td>5685</td>\n",
       "      <td>5685</td>\n",
       "    </tr>\n",
       "  </tbody>\n",
       "</table>\n",
       "</div>"
      ],
      "text/plain": [
       "         overall  reviewText  helpful_numerator  helpful_denominator  Helpful  \\\n",
       "cluster                                                                         \n",
       "0          18646       18646              18646                18646    18646   \n",
       "1          10201       10201              10201                10201    10201   \n",
       "2          13400       13400              13400                13400    13400   \n",
       "3           5685        5685               5685                 5685     5685   \n",
       "\n",
       "         word_list  \n",
       "cluster             \n",
       "0            18646  \n",
       "1            10201  \n",
       "2            13400  \n",
       "3             5685  "
      ]
     },
     "execution_count": 33,
     "metadata": {},
     "output_type": "execute_result"
    }
   ],
   "source": [
    "# how many observations are in each cluster\n",
    "df1['cluster'] = model.labels_\n",
    "df1.groupby('cluster').count()"
   ]
  },
  {
   "cell_type": "code",
   "execution_count": 34,
   "metadata": {
    "collapsed": false
   },
   "outputs": [
    {
     "data": {
      "text/html": [
       "<div>\n",
       "<table border=\"1\" class=\"dataframe\">\n",
       "  <thead>\n",
       "    <tr style=\"text-align: right;\">\n",
       "      <th></th>\n",
       "      <th>overall</th>\n",
       "      <th>helpful_numerator</th>\n",
       "      <th>helpful_denominator</th>\n",
       "      <th>Helpful</th>\n",
       "    </tr>\n",
       "    <tr>\n",
       "      <th>cluster</th>\n",
       "      <th></th>\n",
       "      <th></th>\n",
       "      <th></th>\n",
       "      <th></th>\n",
       "    </tr>\n",
       "  </thead>\n",
       "  <tbody>\n",
       "    <tr>\n",
       "      <th>0</th>\n",
       "      <td>2.956237</td>\n",
       "      <td>38.868015</td>\n",
       "      <td>50.752869</td>\n",
       "      <td>0.834817</td>\n",
       "    </tr>\n",
       "    <tr>\n",
       "      <th>1</th>\n",
       "      <td>3.070777</td>\n",
       "      <td>47.463386</td>\n",
       "      <td>59.846976</td>\n",
       "      <td>0.850113</td>\n",
       "    </tr>\n",
       "    <tr>\n",
       "      <th>2</th>\n",
       "      <td>3.686866</td>\n",
       "      <td>47.288731</td>\n",
       "      <td>58.508731</td>\n",
       "      <td>0.900746</td>\n",
       "    </tr>\n",
       "    <tr>\n",
       "      <th>3</th>\n",
       "      <td>4.626737</td>\n",
       "      <td>52.356201</td>\n",
       "      <td>63.434653</td>\n",
       "      <td>0.952331</td>\n",
       "    </tr>\n",
       "  </tbody>\n",
       "</table>\n",
       "</div>"
      ],
      "text/plain": [
       "          overall  helpful_numerator  helpful_denominator   Helpful\n",
       "cluster                                                            \n",
       "0        2.956237          38.868015            50.752869  0.834817\n",
       "1        3.070777          47.463386            59.846976  0.850113\n",
       "2        3.686866          47.288731            58.508731  0.900746\n",
       "3        4.626737          52.356201            63.434653  0.952331"
      ]
     },
     "execution_count": 34,
     "metadata": {},
     "output_type": "execute_result"
    }
   ],
   "source": [
    "# what does each cluster look like\n",
    "df1.groupby('cluster').mean()"
   ]
  },
  {
   "cell_type": "code",
   "execution_count": 35,
   "metadata": {
    "collapsed": false
   },
   "outputs": [
    {
     "data": {
      "text/html": [
       "<div>\n",
       "<table border=\"1\" class=\"dataframe\">\n",
       "  <thead>\n",
       "    <tr style=\"text-align: right;\">\n",
       "      <th></th>\n",
       "      <th>overall</th>\n",
       "      <th>helpful_numerator</th>\n",
       "      <th>helpful_denominator</th>\n",
       "      <th>Helpful</th>\n",
       "      <th>cluster</th>\n",
       "    </tr>\n",
       "  </thead>\n",
       "  <tbody>\n",
       "    <tr>\n",
       "      <th>overall</th>\n",
       "      <td>1.000000</td>\n",
       "      <td>0.090528</td>\n",
       "      <td>0.073573</td>\n",
       "      <td>0.286067</td>\n",
       "      <td>0.308348</td>\n",
       "    </tr>\n",
       "    <tr>\n",
       "      <th>helpful_numerator</th>\n",
       "      <td>0.090528</td>\n",
       "      <td>1.000000</td>\n",
       "      <td>0.996263</td>\n",
       "      <td>0.103113</td>\n",
       "      <td>0.032038</td>\n",
       "    </tr>\n",
       "    <tr>\n",
       "      <th>helpful_denominator</th>\n",
       "      <td>0.073573</td>\n",
       "      <td>0.996263</td>\n",
       "      <td>1.000000</td>\n",
       "      <td>0.069678</td>\n",
       "      <td>0.025545</td>\n",
       "    </tr>\n",
       "    <tr>\n",
       "      <th>Helpful</th>\n",
       "      <td>0.286067</td>\n",
       "      <td>0.103113</td>\n",
       "      <td>0.069678</td>\n",
       "      <td>1.000000</td>\n",
       "      <td>0.117141</td>\n",
       "    </tr>\n",
       "    <tr>\n",
       "      <th>cluster</th>\n",
       "      <td>0.308348</td>\n",
       "      <td>0.032038</td>\n",
       "      <td>0.025545</td>\n",
       "      <td>0.117141</td>\n",
       "      <td>1.000000</td>\n",
       "    </tr>\n",
       "  </tbody>\n",
       "</table>\n",
       "</div>"
      ],
      "text/plain": [
       "                      overall  helpful_numerator  helpful_denominator  \\\n",
       "overall              1.000000           0.090528             0.073573   \n",
       "helpful_numerator    0.090528           1.000000             0.996263   \n",
       "helpful_denominator  0.073573           0.996263             1.000000   \n",
       "Helpful              0.286067           0.103113             0.069678   \n",
       "cluster              0.308348           0.032038             0.025545   \n",
       "\n",
       "                      Helpful   cluster  \n",
       "overall              0.286067  0.308348  \n",
       "helpful_numerator    0.103113  0.032038  \n",
       "helpful_denominator  0.069678  0.025545  \n",
       "Helpful              1.000000  0.117141  \n",
       "cluster              0.117141  1.000000  "
      ]
     },
     "execution_count": 35,
     "metadata": {},
     "output_type": "execute_result"
    }
   ],
   "source": [
    "# correlation matrix\n",
    "df1.corr()"
   ]
  },
  {
   "cell_type": "code",
   "execution_count": 36,
   "metadata": {
    "collapsed": false
   },
   "outputs": [
    {
     "name": "stdout",
     "output_type": "stream",
     "text": [
      "(47932, 21)\n"
     ]
    }
   ],
   "source": [
    "print(train_set.shape)"
   ]
  },
  {
   "cell_type": "code",
   "execution_count": 37,
   "metadata": {
    "collapsed": true
   },
   "outputs": [],
   "source": [
    "#add Score column to top words\n",
    "import scipy as scipy\n",
    "\n",
    "score = np.array(list(df1.overall))\n",
    "score = score.reshape(47932, 1)\n",
    "\n",
    "features = scipy.sparse.hstack((train_set,scipy.sparse.csr_matrix(score)))\n",
    "\n",
    "features = scipy.sparse.csr_matrix(features)"
   ]
  },
  {
   "cell_type": "code",
   "execution_count": 38,
   "metadata": {
    "collapsed": false
   },
   "outputs": [
    {
     "data": {
      "text/plain": [
       "(47932, 22)"
      ]
     },
     "execution_count": 38,
     "metadata": {},
     "output_type": "execute_result"
    }
   ],
   "source": [
    "features.shape"
   ]
  },
  {
   "cell_type": "code",
   "execution_count": 53,
   "metadata": {
    "collapsed": true
   },
   "outputs": [],
   "source": [
    "X_train, X_test, y_train, y_test = train_test_split(features,df1['Helpful'], test_size=0.2, random_state=RAN_STATE)"
   ]
  },
  {
   "cell_type": "code",
   "execution_count": 54,
   "metadata": {
    "collapsed": false,
    "scrolled": true
   },
   "outputs": [
    {
     "data": {
      "text/plain": [
       "[mean: 0.72912, std: 0.00937, params: {'C': 1e-05, 'class_weight': None},\n",
       " mean: 0.72605, std: 0.00950, params: {'C': 1e-05, 'class_weight': 'balanced'},\n",
       " mean: 0.72966, std: 0.00947, params: {'C': 0.0001, 'class_weight': None},\n",
       " mean: 0.72067, std: 0.00970, params: {'C': 0.0001, 'class_weight': 'balanced'},\n",
       " mean: 0.73232, std: 0.00992, params: {'C': 0.001, 'class_weight': None},\n",
       " mean: 0.72562, std: 0.00964, params: {'C': 0.001, 'class_weight': 'balanced'},\n",
       " mean: 0.73387, std: 0.01042, params: {'C': 0.01, 'class_weight': None},\n",
       " mean: 0.73293, std: 0.00994, params: {'C': 0.01, 'class_weight': 'balanced'},\n",
       " mean: 0.73499, std: 0.01072, params: {'C': 0.1, 'class_weight': None},\n",
       " mean: 0.73585, std: 0.01007, params: {'C': 0.1, 'class_weight': 'balanced'},\n",
       " mean: 0.73621, std: 0.01082, params: {'C': 1, 'class_weight': None},\n",
       " mean: 0.73663, std: 0.01009, params: {'C': 1, 'class_weight': 'balanced'},\n",
       " mean: 0.73637, std: 0.01082, params: {'C': 10, 'class_weight': None},\n",
       " mean: 0.73670, std: 0.01008, params: {'C': 10, 'class_weight': 'balanced'},\n",
       " mean: 0.73639, std: 0.01083, params: {'C': 100, 'class_weight': None},\n",
       " mean: 0.73671, std: 0.01008, params: {'C': 100, 'class_weight': 'balanced'},\n",
       " mean: 0.73639, std: 0.01083, params: {'C': 1000, 'class_weight': None},\n",
       " mean: 0.73671, std: 0.01008, params: {'C': 1000, 'class_weight': 'balanced'},\n",
       " mean: 0.73639, std: 0.01082, params: {'C': 10000, 'class_weight': None},\n",
       " mean: 0.73671, std: 0.01008, params: {'C': 10000, 'class_weight': 'balanced'},\n",
       " mean: 0.73639, std: 0.01083, params: {'C': 100000, 'class_weight': None},\n",
       " mean: 0.73671, std: 0.01008, params: {'C': 100000, 'class_weight': 'balanced'},\n",
       " mean: 0.73639, std: 0.01083, params: {'C': 1000000, 'class_weight': None},\n",
       " mean: 0.73671, std: 0.01008, params: {'C': 1000000, 'class_weight': 'balanced'},\n",
       " mean: 0.73639, std: 0.01083, params: {'C': 10000000, 'class_weight': None},\n",
       " mean: 0.73671, std: 0.01008, params: {'C': 10000000, 'class_weight': 'balanced'},\n",
       " mean: 0.73639, std: 0.01083, params: {'C': 100000000, 'class_weight': None},\n",
       " mean: 0.73671, std: 0.01008, params: {'C': 100000000, 'class_weight': 'balanced'},\n",
       " mean: 0.73639, std: 0.01083, params: {'C': 1000000000, 'class_weight': None},\n",
       " mean: 0.73671, std: 0.01008, params: {'C': 1000000000, 'class_weight': 'balanced'}]"
      ]
     },
     "execution_count": 54,
     "metadata": {},
     "output_type": "execute_result"
    }
   ],
   "source": [
    "\n",
    "gs = grid_search.GridSearchCV(\n",
    "    estimator=LogisticRegression(),\n",
    "    param_grid={'C': [10**i for i in range(-5,10)], 'class_weight': [None, 'balanced']},\n",
    "    cv=cross_validation.StratifiedKFold(y_train,n_folds=5),\n",
    "    scoring='roc_auc'\n",
    ")\n",
    "\n",
    "gs.fit(X_train, y_train)\n",
    "gs.grid_scores_"
   ]
  },
  {
   "cell_type": "code",
   "execution_count": 55,
   "metadata": {
    "collapsed": false
   },
   "outputs": [
    {
     "data": {
      "text/plain": [
       "<function matplotlib.pyplot.show>"
      ]
     },
     "execution_count": 55,
     "metadata": {},
     "output_type": "execute_result"
    },
    {
     "data": {
      "image/png": "[encoded data removed]",
      "text/plain": [
       "<matplotlib.figure.Figure at 0x7f71ab7334d0>"
      ]
     },
     "metadata": {},
     "output_type": "display_data"
    }
   ],
   "source": [
    "clf = gs.best_estimator_\n",
    "probas =clf.predict_proba(X_test)\n",
    "plt.figure(figsize = FIG_SIZE)\n",
    "plt.plot(roc_curve(y_test, probas[:,1])[0], roc_curve(y_test, probas[:,1])[1])\n",
    "plt.title('ROC Curve for Helpful Rating')\n",
    "plt.grid()\n",
    "plt.xlabel('False Positive Rate (1 - Specificity)')\n",
    "plt.ylabel('True Positive Rate (Sensitivity)')\n",
    "plt.show"
   ]
  },
  {
   "cell_type": "code",
   "execution_count": 56,
   "metadata": {
    "collapsed": false
   },
   "outputs": [
    {
     "data": {
      "text/plain": [
       "0.74415023206073372"
      ]
     },
     "execution_count": 56,
     "metadata": {},
     "output_type": "execute_result"
    }
   ],
   "source": [
    "# ROC/AUC score\n",
    "roc_auc_score(y_test, probas[:,1].T)"
   ]
  },
  {
   "cell_type": "markdown",
   "metadata": {},
   "source": [
    "## Results"
   ]
  },
  {
   "cell_type": "markdown",
   "metadata": {},
   "source": [
    "### Model Evaluation and Validation\n",
    "The final model’s qualities — such as parameters — are evaluated in detail. Some type of analysis is used to validate the robustness of the model’s solution."
   ]
  },
  {
   "cell_type": "markdown",
   "metadata": {},
   "source": [
    "### Justification\n",
    "\n",
    "The final results are compared to the benchmark result or threshold with some type of statistical analysis. Justification is made as to whether the final model and solution is significant enough to have adequately solved the problem."
   ]
  },
  {
   "cell_type": "markdown",
   "metadata": {},
   "source": [
    "## Conclusion"
   ]
  },
  {
   "cell_type": "markdown",
   "metadata": {},
   "source": [
    "### Free-Form Visualization\n",
    "A visualization has been provided that emphasizes an important quality about the project with thorough discussion. Visual cues are clearly defined.\n"
   ]
  },
  {
   "cell_type": "markdown",
   "metadata": {},
   "source": [
    "### Reflection\n",
    "\n",
    "Student adequately summarizes the end-to-end problem solution and discusses one or two particular aspects of the project they found interesting or difficult."
   ]
  },
  {
   "cell_type": "markdown",
   "metadata": {},
   "source": [
    "### Improvement\n",
    "\n",
    "Discussion is made as to how one aspect of the implementation could be improved. Potential solutions resulting from these improvements are considered and compared/contrasted to the current solution."
   ]
  },
  {
   "cell_type": "markdown",
   "metadata": {},
   "source": [
    "## References"
   ]
  },
  {
   "cell_type": "markdown",
   "metadata": {},
   "source": [
    "1. Inferring networks of substitutable and complementary products. J. McAuley, R. Pandey, J.\n",
    "Leskovec Knowledge Discovery and Data Mining, 2015.\n",
    "2. Image-based recommendations on styles and substitutes J. McAuley, C. Targett, J. Shi, A. van\n",
    "den Hengel SIGIR, 2015."
   ]
  },
  {
   "cell_type": "code",
   "execution_count": null,
   "metadata": {
    "collapsed": true
   },
   "outputs": [],
   "source": []
  }
 ],
 "metadata": {
  "anaconda-cloud": {},
  "kernelspec": {
   "display_name": "Python [conda root]",
   "language": "python",
   "name": "conda-root-py"
  },
  "language_info": {
   "codemirror_mode": {
    "name": "ipython",
    "version": 2
   },
   "file_extension": ".py",
   "mimetype": "text/x-python",
   "name": "python",
   "nbconvert_exporter": "python",
   "pygments_lexer": "ipython2",
   "version": "2.7.12"
  }
 },
 "nbformat": 4,
 "nbformat_minor": 1
}
