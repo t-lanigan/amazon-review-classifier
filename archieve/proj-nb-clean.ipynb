{
 "cells": [
  {
   "cell_type": "markdown",
   "metadata": {},
   "source": [
    "# Amazon Review - Machine Learning Project\n",
    "Done as a final project for Udacity's machine learning nano degree. For more information, check our their [website](www.udacty.com).\n",
    " "
   ]
  },
  {
   "cell_type": "markdown",
   "metadata": {},
   "source": [
    "## Project Overview\n",
    "The quality of the comments made on internet forums has always suffered due to anonymity of it’s\n",
    "users. When users comments on, for instance, a YouTube video, there is no repercussion for what they\n",
    "say, and the dialogue generated is often not helpful. Different websites have tried different methods for\n",
    "extracting more useful comments. Reddit uses an upvote system, Quora fosters a community that\n",
    "values high quality responses over low quality ones, and Amazon allows for it’s users to to rate the\n",
    "“helpfulness” of reviews left on their products. Amazon’s system, in particular, then allows for the\n",
    "higher rated comments to be displayed at the top of the review forum so that new users can see the top\n",
    "rated comments in order to help them make their own purchasing decisions.\n",
    "\n",
    "Even though Amazon’s helpfulness rating system seems to work on the surface level, poor quality\n",
    "comments still seem to be at the top of their review forms. Having poor quality reviews hurts Amazon’s\n",
    "business, as a major reason that people are willing to buy consumer goods online without seeing the\n",
    "items themselves, is that they have access to others peoples opinions of the item. For example, a review\n",
    "at the top of an app called [“Friday Night at Freddies 4”](https://www.amazon.com/Five-Nights-at-Freddys-4/dp/B012J53LKY) is as follows:\n",
    "\n",
    ">“I love this game so much but at first I though it was lame but when I go in the game I can't\n",
    "beat the first night because cause I put it to full volume and I can't here the breathing\n",
    "bonnie strike at 4 am Chica at 5 and plus it not lame it's better than fnaf and fnaf 2 plus get\n",
    "this game when u buy fnaf”\n",
    "\n",
    "This comment, despite being at the top of the forum, is difficult to understand, a run on sentence, and\n",
    "full of spelling errors. The reason for the failure is part of the algorithm for determining the order of the\n",
    "reviews relies on how recently the review has been made. The offending review was the most recent,\n",
    "but it’s helpfulness score was far less than previous reviews. This illustrates the difficult balance that\n",
    "must be struck between showing the highest rated reviews, and showing the newest reviews, to be rated\n",
    "by the community. An ideal system would predict if a review is helpful or not, so that poor quality\n",
    "reviews would not need to be displayed the top."
   ]
  },
  {
   "cell_type": "markdown",
   "metadata": {},
   "source": [
    "### Problem Statement\n",
    "\n",
    "The problem being addressed in this project is the poor quality of Amazon reviews at the top of the\n",
    "forum despite the “helpfulness” rating system. The problem arises from the “free pass” given to new\n",
    "reviews to be placed at the top of the forum, for a chance to be rated by the community. The proposed\n",
    "solution to this problem is to use machine learning techniques to design a system that “pre-rates” new\n",
    "reviews on their “helpfulness” before they are given a position at the top of the forum. This way, poor\n",
    "quality reviews will be more unlikely to be shown at the top of the forum, as they do not get the “freepass” because they are new. The proposed system will use a set of Amazon review data to train itself to\n",
    "predict a helpfulness classification (helpful, or not helpful) for new input data.\n",
    "\n",
    "The data used for this project is provided by the University of California, San Diego and is available at Julian McAuley's [research page](http://jmcauley.ucsd.edu/data/amazon/). See the references at the end of this project for more information. As the original set is massive, we will only look at a subset of the data: the reviews for [apps for Android](http://snap.stanford.edu/data/amazon/productGraph/categoryFiles/reviews_Apps_for_Android_5.json.gz). "
   ]
  },
  {
   "cell_type": "markdown",
   "metadata": {},
   "source": [
    "### Metrics\n",
    "\n",
    "Since our problem is a binary classification problem (helpful or not helpful). We will use the ‘Receiver\n",
    "Operator Characteristic Area Under the Curve’ or `roc_auc score` to evaluate our model. The curve is created by plotting the true positive rate (TPR) against the false positive rate (FPR). The area under the curve is used to give a score to the model. If the area under the curve is 0.5, then the TPR is equal to the FPR, and the model is\n",
    "doing no better than random guessing. A perfect model would have an AUC of 1.0, meaning it has 100%\n",
    "TPR. For more information on the rox_auc score please visit the [sklearn page](http://scikit-learn.org/stable/modules/model_evaluation.html#roc-metrics). The University of Nebraska Medical Center, also has a good explanation [page.](http://gim.unmc.edu/dxtests/roc3.htm)"
   ]
  },
  {
   "cell_type": "markdown",
   "metadata": {},
   "source": [
    "## Analysis"
   ]
  },
  {
   "cell_type": "code",
   "execution_count": 1,
   "metadata": {
    "collapsed": false
   },
   "outputs": [
    {
     "name": "stderr",
     "output_type": "stream",
     "text": [
      "/home/tyler/anaconda2/lib/python2.7/site-packages/gensim/utils.py:1015: UserWarning: Pattern library is not installed, lemmatization won't be available.\n",
      "  warnings.warn(\"Pattern library is not installed, lemmatization won't be available.\")\n",
      "/home/tyler/anaconda2/lib/python2.7/site-packages/sklearn/cross_validation.py:44: DeprecationWarning: This module was deprecated in version 0.18 in favor of the model_selection module into which all the refactored classes and functions are moved. Also note that the interface of the new CV iterators are different from that of this module. This module will be removed in 0.20.\n",
      "  \"This module will be removed in 0.20.\", DeprecationWarning)\n"
     ]
    }
   ],
   "source": [
    "# These are all the modules we'll be using later. Make sure you can import them\n",
    "# before proceeding further.\n",
    "from __future__ import print_function\n",
    "import matplotlib.pyplot as plt\n",
    "import numpy as np\n",
    "import os\n",
    "import sys\n",
    "from six.moves import cPickle as pickle\n",
    "import pandas as pd\n",
    "import gzip\n",
    "import seaborn as sns\n",
    "import string\n",
    "from time import time\n",
    "import nltk\n",
    "from nltk.corpus import stopwords \n",
    "stops = set(stopwords.words(\"english\"))\n",
    "from sklearn.cross_validation import train_test_split\n",
    "from sklearn.metrics import roc_auc_score, roc_curve\n",
    "\n",
    "from IPython.display import display # Allows the use of display() for DataFrames\n",
    "\n",
    "\n",
    "import warnings\n",
    "warnings.filterwarnings('ignore')\n",
    "\n",
    "# Config the matlotlib backend as plotting inline in IPython\n",
    "%matplotlib inline\n",
    "\n",
    "# Lets define some helpful constants\n",
    "DATASET_NAME = 'reviews_Apps_for_Android_5.json.gz'\n",
    "\n",
    "# A size for figures\n",
    "FIG_SIZE = (14,8)\n",
    "\n",
    "#Random state for classifiers\n",
    "RAN_STATE = 42\n"
   ]
  },
  {
   "cell_type": "markdown",
   "metadata": {},
   "source": [
    "### Data Exploration\n",
    "If a dataset is present, features and calculated statistics relevant to the problem have been reported and discussed, along with a sampling of the data. In lieu of a dataset, a thorough description of the input space or input data has been made. Abnormalities or characteristics about the data or input that need to be addressed have been identified.\n",
    "\n",
    "First we will check if we have already downloaded the dataset. If not, we will download it."
   ]
  },
  {
   "cell_type": "code",
   "execution_count": 2,
   "metadata": {
    "collapsed": false,
    "scrolled": true
   },
   "outputs": [
    {
     "name": "stdout",
     "output_type": "stream",
     "text": [
      "Found and verified reviews_Apps_for_Android_5.json.gz\n"
     ]
    }
   ],
   "source": [
    "url = 'http://snap.stanford.edu/data/amazon/productGraph/categoryFiles/'\n",
    "last_percent_reported = None\n",
    "\n",
    "def download_progress_hook(count, blockSize, totalSize):\n",
    "    \"\"\"A hook to report the progress of a download. This is mostly intended for users with\n",
    "    slow internet connections. Reports every 1% change in download progress.\n",
    "    \"\"\"\n",
    "    global last_percent_reported\n",
    "    percent = int(count * blockSize * 100 / totalSize)\n",
    "\n",
    "    if last_percent_reported != percent:\n",
    "        if percent % 5 == 0:\n",
    "            sys.stdout.write(\"%s%%\" % percent)\n",
    "            sys.stdout.flush()\n",
    "        else:\n",
    "            sys.stdout.write(\".\")\n",
    "            sys.stdout.flush()\n",
    "            \n",
    "        last_percent_reported = percent\n",
    "                \n",
    "def maybe_download(filename, expected_bytes, force=False):\n",
    "    \"\"\"Download a file if not present, and make sure it's the right size.\"\"\"\n",
    "    if force or not os.path.exists(filename):\n",
    "        print('Attempting to download:', filename) \n",
    "        filename, _ = urlretrieve(url + filename, filename, reporthook=download_progress_hook)\n",
    "        print('\\nDownload Complete!')\n",
    "    statinfo = os.stat(filename)\n",
    "    if statinfo.st_size == expected_bytes:\n",
    "        print('Found and verified', filename)\n",
    "    else:\n",
    "        raise Exception(\n",
    "            'Failed to verify ' + filename + '. Can you get to it with a browser?')\n",
    "    return filename\n",
    "\n",
    "test = maybe_download(DATASET_NAME, 95509687)\n"
   ]
  },
  {
   "cell_type": "markdown",
   "metadata": {},
   "source": [
    "We need to extract the data, and convert the data given in \"json\" to a dataframe in order to perform our analysis. To save time for later we will pickle the file."
   ]
  },
  {
   "cell_type": "code",
   "execution_count": 3,
   "metadata": {
    "collapsed": false
   },
   "outputs": [
    {
     "name": "stdout",
     "output_type": "stream",
     "text": [
      "Pickled file already present, loading...\n",
      "Pickle file loaded.\n"
     ]
    }
   ],
   "source": [
    "def parse(path):\n",
    "    g = gzip.open(path, 'rb')\n",
    "    for l in g:\n",
    "        yield eval(l)\n",
    "\n",
    "def getDF(path):\n",
    "    i = 0\n",
    "    data = {}\n",
    "    for d in parse(path):\n",
    "        data[i] = d\n",
    "        i += 1\n",
    "    return pd.DataFrame.from_dict(df, orient='index')\n",
    "\n",
    "#removes extensions and adds pickle.\n",
    "pickle_file_name = (DATASET_NAME[:-8]+'.pickle')\n",
    "\n",
    "#loads pickle if exists, extracts and pickles if it doesn't\n",
    "if os.path.exists(pickle_file_name):\n",
    "    print ('Pickled file already present, loading...')\n",
    "    data = pd.read_pickle(pickle_file_name)\n",
    "    print ('Pickle file loaded.')\n",
    "else:\n",
    "    data = getDF(DATASET_NAME)\n",
    "    data.to_pickle(pickle_file_name)\n",
    "\n"
   ]
  },
  {
   "cell_type": "markdown",
   "metadata": {},
   "source": [
    "OK now lets have a look at the data."
   ]
  },
  {
   "cell_type": "code",
   "execution_count": 4,
   "metadata": {
    "collapsed": false
   },
   "outputs": [
    {
     "data": {
      "text/html": [
       "<div>\n",
       "<table border=\"1\" class=\"dataframe\">\n",
       "  <thead>\n",
       "    <tr style=\"text-align: right;\">\n",
       "      <th></th>\n",
       "      <th>reviewerID</th>\n",
       "      <th>asin</th>\n",
       "      <th>reviewerName</th>\n",
       "      <th>helpful</th>\n",
       "      <th>unixReviewTime</th>\n",
       "      <th>reviewText</th>\n",
       "      <th>overall</th>\n",
       "      <th>reviewTime</th>\n",
       "      <th>summary</th>\n",
       "    </tr>\n",
       "  </thead>\n",
       "  <tbody>\n",
       "    <tr>\n",
       "      <th>0</th>\n",
       "      <td>A1N4O8VOJZTDVB</td>\n",
       "      <td>B004A9SDD8</td>\n",
       "      <td>Annette Yancey</td>\n",
       "      <td>[1, 1]</td>\n",
       "      <td>1383350400</td>\n",
       "      <td>Loves the song, so he really couldn't wait to ...</td>\n",
       "      <td>3.0</td>\n",
       "      <td>11 2, 2013</td>\n",
       "      <td>Really cute</td>\n",
       "    </tr>\n",
       "  </tbody>\n",
       "</table>\n",
       "</div>"
      ],
      "text/plain": [
       "       reviewerID        asin    reviewerName helpful  unixReviewTime  \\\n",
       "0  A1N4O8VOJZTDVB  B004A9SDD8  Annette Yancey  [1, 1]      1383350400   \n",
       "\n",
       "                                          reviewText  overall  reviewTime  \\\n",
       "0  Loves the song, so he really couldn't wait to ...      3.0  11 2, 2013   \n",
       "\n",
       "       summary  \n",
       "0  Really cute  "
      ]
     },
     "execution_count": 4,
     "metadata": {},
     "output_type": "execute_result"
    }
   ],
   "source": [
    "data.head(1)"
   ]
  },
  {
   "cell_type": "markdown",
   "metadata": {},
   "source": [
    "The `helpful` score can be explained as follows: a user can either rate the review as 'helpful’ or ‘not\n",
    "helpful’. The dataset records each of these in an array. For our problem we want to classify the email as\n",
    "either ‘helpful’ or not ‘helpful’. For training, this label can be generated by dividing the ‘helpful’\n",
    "ratings by the total ratings and seeing if it exceeds a certain threshold.\n",
    "\n",
    "Lets extract the information we need for this project:\n",
    "\n",
    "* The 'reviewText' will be used to generate features using natural language processing.\n",
    "* The score will be used as a feauture in our final model\n",
    "* The 'helpful' rating will be used to generate labels. We will train our model using these training labels. Predict the label using the test features, and measure the success of our model using the test labels. This will be explained more later.\n",
    "\n",
    "Other features that could be important would be the summary; however, in the interest of keeping this simple, we will exclude it from the analysis."
   ]
  },
  {
   "cell_type": "code",
   "execution_count": 5,
   "metadata": {
    "collapsed": false
   },
   "outputs": [
    {
     "name": "stdout",
     "output_type": "stream",
     "text": [
      "overall                0\n",
      "reviewText             0\n",
      "helpful_numerator      0\n",
      "helpful_denominator    0\n",
      "dtype: int64\n"
     ]
    }
   ],
   "source": [
    "#select the columns\n",
    "df = data.iloc[:, [6,5,3]]\n",
    "\n",
    "#split numerator and denominator\n",
    "df['helpful_numerator'] = df['helpful'].apply(lambda x: x[0])\n",
    "df['helpful_denominator'] = df['helpful'].apply(lambda x: x[1])\n",
    "\n",
    "# delete un-needed 'helpful catagory\n",
    "del df['helpful']\n",
    "\n",
    "#Check if we have any null values\n",
    "print (df.isnull().sum())\n"
   ]
  },
  {
   "cell_type": "markdown",
   "metadata": {},
   "source": [
    "Lets have a quick look at the stats.."
   ]
  },
  {
   "cell_type": "code",
   "execution_count": 6,
   "metadata": {
    "collapsed": false
   },
   "outputs": [
    {
     "data": {
      "text/html": [
       "<div>\n",
       "<table border=\"1\" class=\"dataframe\">\n",
       "  <thead>\n",
       "    <tr style=\"text-align: right;\">\n",
       "      <th></th>\n",
       "      <th>overall</th>\n",
       "      <th>helpful_numerator</th>\n",
       "      <th>helpful_denominator</th>\n",
       "    </tr>\n",
       "  </thead>\n",
       "  <tbody>\n",
       "    <tr>\n",
       "      <th>count</th>\n",
       "      <td>752937.000000</td>\n",
       "      <td>752937.000000</td>\n",
       "      <td>752937.000000</td>\n",
       "    </tr>\n",
       "    <tr>\n",
       "      <th>mean</th>\n",
       "      <td>3.968931</td>\n",
       "      <td>3.435937</td>\n",
       "      <td>4.473125</td>\n",
       "    </tr>\n",
       "    <tr>\n",
       "      <th>std</th>\n",
       "      <td>1.342484</td>\n",
       "      <td>37.328951</td>\n",
       "      <td>43.688824</td>\n",
       "    </tr>\n",
       "    <tr>\n",
       "      <th>min</th>\n",
       "      <td>1.000000</td>\n",
       "      <td>0.000000</td>\n",
       "      <td>0.000000</td>\n",
       "    </tr>\n",
       "    <tr>\n",
       "      <th>25%</th>\n",
       "      <td>3.000000</td>\n",
       "      <td>0.000000</td>\n",
       "      <td>0.000000</td>\n",
       "    </tr>\n",
       "    <tr>\n",
       "      <th>50%</th>\n",
       "      <td>5.000000</td>\n",
       "      <td>0.000000</td>\n",
       "      <td>0.000000</td>\n",
       "    </tr>\n",
       "    <tr>\n",
       "      <th>75%</th>\n",
       "      <td>5.000000</td>\n",
       "      <td>1.000000</td>\n",
       "      <td>2.000000</td>\n",
       "    </tr>\n",
       "    <tr>\n",
       "      <th>max</th>\n",
       "      <td>5.000000</td>\n",
       "      <td>8116.000000</td>\n",
       "      <td>9258.000000</td>\n",
       "    </tr>\n",
       "  </tbody>\n",
       "</table>\n",
       "</div>"
      ],
      "text/plain": [
       "             overall  helpful_numerator  helpful_denominator\n",
       "count  752937.000000      752937.000000        752937.000000\n",
       "mean        3.968931           3.435937             4.473125\n",
       "std         1.342484          37.328951            43.688824\n",
       "min         1.000000           0.000000             0.000000\n",
       "25%         3.000000           0.000000             0.000000\n",
       "50%         5.000000           0.000000             0.000000\n",
       "75%         5.000000           1.000000             2.000000\n",
       "max         5.000000        8116.000000          9258.000000"
      ]
     },
     "execution_count": 6,
     "metadata": {},
     "output_type": "execute_result"
    }
   ],
   "source": [
    "df.describe()"
   ]
  },
  {
   "cell_type": "markdown",
   "metadata": {},
   "source": [
    "There are clearly some outliers and weird numbers in here. Lets move on to some visualization."
   ]
  },
  {
   "cell_type": "markdown",
   "metadata": {},
   "source": [
    "### Exploratory Visualization\n",
    "A visualization has been provided that summarizes or extracts a relevant characteristic or feature about the dataset or input data with thorough discussion. Visual cues are clearly defined.\n",
    "\n",
    "Lets have a look at how our data is distributed."
   ]
  },
  {
   "cell_type": "code",
   "execution_count": 7,
   "metadata": {
    "collapsed": false,
    "scrolled": true
   },
   "outputs": [
    {
     "data": {
      "text/plain": [
       "<matplotlib.axes._subplots.AxesSubplot at 0x7f085471a3d0>"
      ]
     },
     "metadata": {},
     "output_type": "display_data"
    },
    {
     "data": {
      "image/png": "[encoded data removed]",
      "text/plain": [
       "<matplotlib.figure.Figure at 0x7f085471ae10>"
      ]
     },
     "metadata": {},
     "output_type": "display_data"
    }
   ],
   "source": [
    "### Box Plot\n",
    "plt.figure(figsize=FIG_SIZE)\n",
    "plt.title('Box plot of Features')\n",
    "plt.ylabel('Spread')\n",
    "plt.xlabel('Features')\n",
    "\n",
    "display(sns.boxplot(df[df.columns]))"
   ]
  },
  {
   "cell_type": "markdown",
   "metadata": {},
   "source": [
    "This is pretty ugly, let's have a look at some of the outliers and make sure they are valid data."
   ]
  },
  {
   "cell_type": "code",
   "execution_count": 8,
   "metadata": {
    "collapsed": false
   },
   "outputs": [
    {
     "name": "stdout",
     "output_type": "stream",
     "text": [
      "510127\n",
      "510127\n"
     ]
    }
   ],
   "source": [
    "print (df['helpful_numerator'].idxmax(axis=0, skipna=True))\n",
    "print (df['helpful_denominator'].idxmax(axis = 0, skipna = True))"
   ]
  },
  {
   "cell_type": "code",
   "execution_count": 9,
   "metadata": {
    "collapsed": false
   },
   "outputs": [
    {
     "data": {
      "text/html": [
       "<div>\n",
       "<table border=\"1\" class=\"dataframe\">\n",
       "  <thead>\n",
       "    <tr style=\"text-align: right;\">\n",
       "      <th></th>\n",
       "      <th>overall</th>\n",
       "      <th>reviewText</th>\n",
       "      <th>helpful_numerator</th>\n",
       "      <th>helpful_denominator</th>\n",
       "    </tr>\n",
       "  </thead>\n",
       "  <tbody>\n",
       "    <tr>\n",
       "      <th>510127</th>\n",
       "      <td>5.0</td>\n",
       "      <td>This game is the perfect sequel to Temple Run....</td>\n",
       "      <td>8116</td>\n",
       "      <td>9258</td>\n",
       "    </tr>\n",
       "  </tbody>\n",
       "</table>\n",
       "</div>"
      ],
      "text/plain": [
       "        overall                                         reviewText  \\\n",
       "510127      5.0  This game is the perfect sequel to Temple Run....   \n",
       "\n",
       "        helpful_numerator  helpful_denominator  \n",
       "510127               8116                 9258  "
      ]
     },
     "execution_count": 9,
     "metadata": {},
     "output_type": "execute_result"
    }
   ],
   "source": [
    "df.iloc[[510127]]"
   ]
  },
  {
   "cell_type": "markdown",
   "metadata": {},
   "source": [
    "This looks fine to me. Moving on."
   ]
  },
  {
   "cell_type": "markdown",
   "metadata": {},
   "source": [
    "### Algorithms and Techniques\n",
    "Algorithms and techniques used in the project are thoroughly discussed and properly justified based on the characteristics of the problem."
   ]
  },
  {
   "cell_type": "markdown",
   "metadata": {},
   "source": [
    "### Benchmark\n",
    "Student clearly defines a benchmark result or threshold for comparing performances of solutions obtained."
   ]
  },
  {
   "cell_type": "markdown",
   "metadata": {},
   "source": [
    "## Methodology"
   ]
  },
  {
   "cell_type": "markdown",
   "metadata": {},
   "source": [
    "### Data Preprocessing\n",
    "All preprocessing steps have been clearly documented. Abnormalities or characteristics about the data or input that needed to be addressed have been corrected. If no data preprocessing is necessary, it has been clearly justified.\n",
    "\n",
    "Data that has had less than 10 ratings will first be trimmed out of the dataset. There are a significant amount of reviews, and many do not face the scrutiny of people reading them. So these data points will influence our analysis, as they could be good reviews, but have no one read them."
   ]
  },
  {
   "cell_type": "code",
   "execution_count": 10,
   "metadata": {
    "collapsed": false
   },
   "outputs": [
    {
     "data": {
      "text/plain": [
       "(47932, 4)"
      ]
     },
     "execution_count": 10,
     "metadata": {},
     "output_type": "execute_result"
    }
   ],
   "source": [
    "#include reviews that have more than 10 helpfulness data point only\n",
    "df1 = df[(df.helpful_denominator > 10)].copy()\n",
    "df1.shape"
   ]
  },
  {
   "cell_type": "markdown",
   "metadata": {},
   "source": [
    "In order to perform our analysis, we wish to determine if a given review text is helpful or not. We need a way to map the existing data to this binary classification. The chosen method is to use a threshold of 'helpful_numerator' divided by 'helpful_denominator'. In other words, the ratio of the people who found the review helpful over the amount of people who rated the review as helpful or unhelpful. If this ratio exceeds a certain threshold value, we can label the training data as 'helpful' = 1, or 'non-helpful' = 0"
   ]
  },
  {
   "cell_type": "code",
   "execution_count": 11,
   "metadata": {
    "collapsed": false
   },
   "outputs": [
    {
     "data": {
      "text/html": [
       "<div>\n",
       "<table border=\"1\" class=\"dataframe\">\n",
       "  <thead>\n",
       "    <tr style=\"text-align: right;\">\n",
       "      <th></th>\n",
       "      <th>overall</th>\n",
       "      <th>reviewText</th>\n",
       "      <th>helpful_numerator</th>\n",
       "      <th>helpful_denominator</th>\n",
       "      <th>Helpful</th>\n",
       "    </tr>\n",
       "  </thead>\n",
       "  <tbody>\n",
       "    <tr>\n",
       "      <th>33</th>\n",
       "      <td>3.0</td>\n",
       "      <td>I did the 7-day trial and was impressed, but a...</td>\n",
       "      <td>15</td>\n",
       "      <td>20</td>\n",
       "      <td>1</td>\n",
       "    </tr>\n",
       "    <tr>\n",
       "      <th>94</th>\n",
       "      <td>5.0</td>\n",
       "      <td>This app is great!  It has a daily verse, a da...</td>\n",
       "      <td>96</td>\n",
       "      <td>107</td>\n",
       "      <td>1</td>\n",
       "    </tr>\n",
       "    <tr>\n",
       "      <th>284</th>\n",
       "      <td>2.0</td>\n",
       "      <td>This app simply latches on to Google maps and ...</td>\n",
       "      <td>11</td>\n",
       "      <td>23</td>\n",
       "      <td>0</td>\n",
       "    </tr>\n",
       "  </tbody>\n",
       "</table>\n",
       "</div>"
      ],
      "text/plain": [
       "     overall                                         reviewText  \\\n",
       "33       3.0  I did the 7-day trial and was impressed, but a...   \n",
       "94       5.0  This app is great!  It has a daily verse, a da...   \n",
       "284      2.0  This app simply latches on to Google maps and ...   \n",
       "\n",
       "     helpful_numerator  helpful_denominator  Helpful  \n",
       "33                  15                   20        1  \n",
       "94                  96                  107        1  \n",
       "284                 11                   23        0  "
      ]
     },
     "execution_count": 11,
     "metadata": {},
     "output_type": "execute_result"
    }
   ],
   "source": [
    "#transform Helpfulness into a binary variable with 0.50 ratio\n",
    "threshold = 0.5\n",
    "df1.loc[:, 'Helpful'] = np.where(df1.loc[:, 'helpful_numerator'] \\\n",
    "                                 / df1.loc[:, 'helpful_denominator'] > threshold, 1, 0)\n",
    "df1.head(3)"
   ]
  },
  {
   "cell_type": "code",
   "execution_count": 12,
   "metadata": {
    "collapsed": false,
    "scrolled": true
   },
   "outputs": [
    {
     "name": "stdout",
     "output_type": "stream",
     "text": [
      "Count:\n"
     ]
    },
    {
     "data": {
      "text/html": [
       "<div>\n",
       "<table border=\"1\" class=\"dataframe\">\n",
       "  <thead>\n",
       "    <tr style=\"text-align: right;\">\n",
       "      <th></th>\n",
       "      <th>overall</th>\n",
       "      <th>reviewText</th>\n",
       "      <th>helpful_numerator</th>\n",
       "      <th>helpful_denominator</th>\n",
       "    </tr>\n",
       "    <tr>\n",
       "      <th>Helpful</th>\n",
       "      <th></th>\n",
       "      <th></th>\n",
       "      <th></th>\n",
       "      <th></th>\n",
       "    </tr>\n",
       "  </thead>\n",
       "  <tbody>\n",
       "    <tr>\n",
       "      <th>0</th>\n",
       "      <td>6210</td>\n",
       "      <td>6210</td>\n",
       "      <td>6210</td>\n",
       "      <td>6210</td>\n",
       "    </tr>\n",
       "    <tr>\n",
       "      <th>1</th>\n",
       "      <td>41722</td>\n",
       "      <td>41722</td>\n",
       "      <td>41722</td>\n",
       "      <td>41722</td>\n",
       "    </tr>\n",
       "  </tbody>\n",
       "</table>\n",
       "</div>"
      ],
      "text/plain": [
       "         overall  reviewText  helpful_numerator  helpful_denominator\n",
       "Helpful                                                             \n",
       "0           6210        6210               6210                 6210\n",
       "1          41722       41722              41722                41722"
      ]
     },
     "metadata": {},
     "output_type": "display_data"
    }
   ],
   "source": [
    "#Lets check the balance\n",
    "print ('Count:')\n",
    "display(df1.groupby('Helpful').count())\n"
   ]
  },
  {
   "cell_type": "code",
   "execution_count": 13,
   "metadata": {
    "collapsed": false,
    "scrolled": true
   },
   "outputs": [
    {
     "data": {
      "image/png": "[encoded data removed]",
      "text/plain": [
       "<matplotlib.figure.Figure at 0x7f081e126150>"
      ]
     },
     "metadata": {},
     "output_type": "display_data"
    }
   ],
   "source": [
    "#visualize correlation of the data\n",
    "correlations = df1.corr()\n",
    "plt.figure(figsize = FIG_SIZE)\n",
    "plt.title(\"Heatmap of correlations in each catagory\")\n",
    "_ = sns.heatmap(correlations, vmin=0, vmax=1, annot=True)\n"
   ]
  },
  {
   "cell_type": "markdown",
   "metadata": {},
   "source": [
    "We can see that our dataset in unbalanced, with roughly 7 times as many effective reviews as ineffective reviews. This means that when we are splitting our data later, we will need to use a stratified shuffle so that both categories have proportional representation in training.\n",
    "\n",
    "We can also see that there is a small correlation between the score and the 'Helpful' rating. It is good that this correlation is small, or else our job would be very easy and we wouldn't need to generate features from the reviewText at all, we could just look at the score of the review. "
   ]
  },
  {
   "cell_type": "markdown",
   "metadata": {},
   "source": [
    "### Text Feature Generation\n",
    "Now lets convert the text to lower case so we can run our natural language processing to produce features. We will also remove punctuation. Removing punctuation may seem like it should not be done in the case of this problem, as not having punctuation will make a review harder to understand. This is a trade-off that we must consider as if you have punctuation, it will cause the learning algorithm to behave poorly."
   ]
  },
  {
   "cell_type": "code",
   "execution_count": 14,
   "metadata": {
    "collapsed": false
   },
   "outputs": [
    {
     "data": {
      "text/plain": [
       "33     i did the 7day trial and was impressed but am ...\n",
       "94     this app is great  it has a daily verse a dail...\n",
       "284    this app simply latches on to google maps and ...\n",
       "288    unable to move to sd card uninstalled cannot r...\n",
       "Name: reviewText, dtype: object"
      ]
     },
     "execution_count": 14,
     "metadata": {},
     "output_type": "execute_result"
    }
   ],
   "source": [
    "# convert text to lowercase\n",
    "df1.loc[:, 'reviewText'] = df1['reviewText'].str.lower()\n",
    "\n",
    "def remove_punctuation(text):\n",
    "    return text.translate(None, string.punctuation.translate(None, '\"'))\n",
    "\n",
    "df1['reviewText']=df1['reviewText'].apply( lambda x: remove_punctuation(x))\n",
    "df1['reviewText'].head(4)"
   ]
  },
  {
   "cell_type": "markdown",
   "metadata": {},
   "source": [
    "In order to generate more features we will use the [TF-IDF vectorizer](http://scikit-learn.org/stable/modules/generated/sklearn.feature_extraction.text.TfidfVectorizer.html) from the sci-kit learn library. We will also use the [NLTK](http://www.nltk.org/) library. The pre-processing methods that we are going to employ are as follows:\n",
    "\n",
    "* __Stemming__ - Stemming means to take off the suffixes of the stemmed word. Therefore words such as \"run\" and \"running\" would both be represented as \"run\". This allows for our algorithms to more accurate find trends in the \"meanings\" of sentences (e.g \"the sun is shining\" and \"the sun shines\" will more accurately be associated with the same meaning. It will reduce the total amount of features that we will generate.\n",
    "* __Tolkenizing__- Splits sentences up into single words. This is needed to generate our TFIDF features.\n",
    "* __Remove Stop Words__- This moves words such as \"the\" \"a\" and \"it\" as shown in the English stop words [corpus](http://www.nltk.org/howto/corpus.html). These will only clutter up our learning algorithm. Admittingly, sentences without these words are hard to understand, and ideally they should be kept, but it is again a trade-off.\n",
    "* __ngrams__- Makes groups of words that are 'n' long. E.g the 2-grams for the sentence \"The shaggy dog\" are [The, shaggy], [The, dog] and [shaggy, dog]. Weving more than that is computationally expensive for my computer. will stick to 2-grams and 1-grams for now. Having more than that is computationally expensive.\n",
    "\n",
    "Finally we will generate TF-IDF scores for each of the stemmed and tolkenized words and ngrams. TF-IDF is short for _Term Frequency Inverse Document frequency_. TF-IDF is a numerical statistic that is intended to reflect how important a word is to a document in a collection or corpus. It is often used as a weighting factor in information retrieval and text mining. For more information check out this [link.](http://www.tfidf.com/)\n",
    "\n",
    "For our vectorizer, we will also set the min_df to 0.001. This is a cheap way of getting rid of spelling mistakes. Words that appear this infrequently are most likely typos and are uninteresting to our algorithm."
   ]
  },
  {
   "cell_type": "code",
   "execution_count": 67,
   "metadata": {
    "collapsed": false,
    "scrolled": true
   },
   "outputs": [
    {
     "name": "stdout",
     "output_type": "stream",
     "text": [
      "Pickled file already present, loading...\n",
      "Pickle file loaded.\n"
     ]
    },
    {
     "data": {
      "text/plain": [
       "<47932x445 sparse matrix of type '<type 'numpy.float64'>'\n",
       "\twith 725739 stored elements in Compressed Sparse Row format>"
      ]
     },
     "execution_count": 67,
     "metadata": {},
     "output_type": "execute_result"
    }
   ],
   "source": [
    "#tokenize text with Tfidf\n",
    "from sklearn.feature_extraction.text import TfidfVectorizer\n",
    "from nltk.stem.snowball import SnowballStemmer\n",
    "\n",
    "#create a stemmer\n",
    "stemmer = SnowballStemmer(\"english\")\n",
    "\n",
    "\n",
    "#define our own tokenizing function that we will pass into the TFIDFVectorizer. We will also stem the words here.\n",
    "def tokens(x):\n",
    "    x = x.split()\n",
    "    stems = []\n",
    "    [stems.append(stemmer.stem(word)) for word in x]\n",
    "    return stems\n",
    "\n",
    "#loads pickle if exists, extracts and pickles if it doesn't\n",
    "if os.path.exists('features.pickle'):\n",
    "    print ('Pickled file already present, loading...')\n",
    "    features = pickle.load( open( \"features.pickle\", \"rb\" ) )\n",
    "    print ('Pickle file loaded.')\n",
    "else:\n",
    "    #define the vectorizer\n",
    "    vectorizer = TfidfVectorizer(tokenizer = tokens, stop_words = 'english', ngram_range=(1, 1), min_df = 0.01)\n",
    "    #fit the vectorizers to the data.\n",
    "    features = vectorizer.fit_transform(df1['reviewText'])\n",
    "features"
   ]
  },
  {
   "cell_type": "markdown",
   "metadata": {},
   "source": [
    "We have now generated all of the features that we are going to need. \n"
   ]
  },
  {
   "cell_type": "markdown",
   "metadata": {},
   "source": [
    "### Benchmark model\n",
    "In order to establish a baseline for the project, we will look at all of the out of box models from sklearn.\n",
    "\n",
    "The following algorithms were investigated:\n",
    "\n",
    "- Gaussian Naive Bayes (GaussianNB)\n",
    "- Decision Trees\n",
    "- Ensemble Methods (Bagging, AdaBoost, Random Forest, Gradient Boosting)\n",
    "- K-Nearest Neighbours (Neighbours)\n",
    "- Stochastic Gradient Descent (SGDC)\n",
    "- Support Vector Machines (SVM)\n",
    "- Logistic Regression\n",
    "\n",
    "Information on each algorithm can be found at [`scikit-learn`](http://scikit-learn.org/stable/supervised_learning.html). \n",
    "\n",
    "Taking this documentation into consideration, the following three algorithms have been selected to be investigated, for reasons listed below:\n",
    "\n",
    "__Logistic Regression__: Logistic regression, despite its name, is a linear model for classification rather than regression. Logistic regression is also known in the literature as logit regression, maximum-entropy classification (MaxEnt) or the log-linear classifier.\n",
    "\n",
    "* _Real World Application_: Logistic Regression is used frequently for text classification, for example determining if an email is spam or not (3)\n",
    "* _Strengths of Model_: Logistic  \n",
    "* _Weaknesses of Model_: Naithe data may not follow this rule since order of words in a sentense matter for it's meaning.\n",
    "* _Selection Justification_: The ability to \n",
    "\n",
    "__Random Forest__: A Random Forest is a ensembling algorithm that fits a number of decision tree classifiers on various sub-samples of the dataset and use averaging to improve the predictive accuracy and control over-fitting. It does not implement boosting on the trees, and instead counts a vote of each individual tree in order to produce the final class label.\n",
    "* _Real World Application_: Random Forest has been used in Diabetic Retinopathy classification analyses (5), and is very popular for Kaggle competitions.\n",
    "* _Strengths of Model_: The strength of the Random Forest classifier comes from the formation of it's trees. Because it is formed from \"random\" subsets of the data, and the final result is compared to other trees that have also been formed \"randomly\", the algorithm guards well against \"overfitting\" from noisy data points that may have more influence on a single decision tree algorithm. The \"random\" formation of the trees ensures that there is little chance for a strong bias to be present in the data during tree construction. (4) Random Forests also work well with high dimensional data, as in the case of our TFIDF features.(5).\n",
    "* _Weaknesses of Model_: A lot of trees are necessary to get stable estimates of variable importance and proximity. This can lead to a large amount of space in memory being needed to store the trees. Additionally, the trees need to be re-trained when new data is being introduced, unlike Naive Bayes. Its training complexity is given as O(M √d n log n) where d is the number of features and M is the number of trees. \n",
    "* _Selection Justification_: Since random forest works well with high dimensional data, as is competitive with other algorithms such as SVM without the high training cost (5) it is selected for our study.\n",
    "\n",
    "__Adaboost__: AdaBoost or \"adaptive boosting\" begins by fitting a \"weak\" classifier on the original dataset. It then fits additional copies of the classifier on the same dataset and adjusts the weights of incorrectly classified instances such that subsequent classifiers focus more on difficult cases. The adjustment is done using the SAMME-R algorithm (for classification)\n",
    "* _Real World Application_: Adaboost has been used in robust real time face detection (6). It is also quite popular for Kaggle competitions.\n",
    "* _Strengths of Model_: Because of it's boosting property, Adaboost will not suffer from overfitting caused by too many training periods in the boosting algorithm. Theoretically, the algorithm should produce better and better results the more it is trained.\n",
    "* _Weaknesses of Model_: Adaboost is slow to train, relative to GaussianNB (actual training complexity could not be found). \n",
    "* _Selection Justification_: It will be interesting to measure the performance of the boosting method of Adaboost vs the vote method for the RF algorithm, as both use decision trees and differ only in the method in which the tree are ensembled together for the final classification.\n",
    "\n",
    "\n",
    "Now we will shuffle and split the data into 80% training and 20% testing."
   ]
  },
  {
   "cell_type": "code",
   "execution_count": 69,
   "metadata": {
    "collapsed": false
   },
   "outputs": [],
   "source": [
    "X_train, X_test, y_train, y_test = train_test_split(features,df1['Helpful'], test_size=0.2, random_state=RAN_STATE)"
   ]
  },
  {
   "cell_type": "markdown",
   "metadata": {},
   "source": [
    "The benefit to splitting the data into testing and training sets is that this allows simulated evaluation of how well the model is performing before using it in the real world to make predictions.\n",
    "If there was no testing set, there would be no way of realistically evaluating the model as you would only be able to measure it's performace on data to which it's already been exposed. This will result in a false sense of confidence in how well the model performs."
   ]
  },
  {
   "cell_type": "markdown",
   "metadata": {},
   "source": [
    "## Setup\n",
    "The code below initializes some helper functions used to test the models later."
   ]
  },
  {
   "cell_type": "code",
   "execution_count": 70,
   "metadata": {
    "collapsed": false
   },
   "outputs": [],
   "source": [
    "def train_classifier(clf, X_train, y_train):\n",
    "    ''' Fits a classifier to the training data. '''\n",
    "    \n",
    "    # Start the clock, train the classifier, then stop the clock\n",
    "    start = time()\n",
    "    clf.fit(X_train, y_train)\n",
    "    end = time()\n",
    "    \n",
    "    # Print the results\n",
    "    print (\"Trained model in {:.4f} seconds\".format(end - start))\n",
    "\n",
    "    \n",
    "def predict_labels(clf, features, target):\n",
    "    ''' Makes predictions using a fit classifier based on roc_auc score. '''\n",
    "    \n",
    "    # Start the clock, make predictions, then stop the clock\n",
    "    start = time()\n",
    "    probas = clf.predict_proba(features)\n",
    "    end = time()\n",
    "    \n",
    "    # Print and return results\n",
    "    print (\"Made predictions in {:.4f} seconds.\".format(end - start))\n",
    "    return roc_auc_score(target.values, probas[:,1].T)\n",
    "\n",
    "\n",
    "def train_predict(clf, X_train, y_train, X_test, y_test):\n",
    "    ''' Train and predict using a classifer based on roc_auc score. '''\n",
    "    \n",
    "    # Indicate the classifier and the training set size\n",
    "    print (\"Training a {} using a training set size of {}. . .\".format(clf.__class__.__name__, X_train.shape[0]))\n",
    "    \n",
    "    # Train the classifier\n",
    "    train_classifier(clf, X_train, y_train)\n",
    "    \n",
    "    # Print the results of prediction for both training and testing\n",
    "    print (\"ROC_AUC score for training set: {:.4f}.\".format(predict_labels(clf, X_train, y_train)))\n",
    "    print (\"ROC_AUC score for test set: {:.4f}.\\n\".format(predict_labels(clf, X_test, y_test)))\n",
    "    \n",
    "def clf_test_roc_score(clf, X_train, y_train, X_test, y_test):\n",
    "    clf.fit(X_train, y_train)\n",
    "    probas = probas =clf.predict_proba(X_test)\n",
    "    return roc_auc_score(y_test, probas[:,1].T)"
   ]
  },
  {
   "cell_type": "code",
   "execution_count": 72,
   "metadata": {
    "collapsed": false,
    "scrolled": true
   },
   "outputs": [
    {
     "name": "stdout",
     "output_type": "stream",
     "text": [
      "Training a GaussianNB using a training set size of 10000. . .\n",
      "Trained model in 0.1982 seconds\n",
      "Made predictions in 0.2311 seconds.\n",
      "ROC_AUC score for training set: 0.7553.\n",
      "Made predictions in 0.2270 seconds.\n",
      "ROC_AUC score for test set: 0.6507.\n",
      "\n",
      "Training a GaussianNB using a training set size of 20000. . .\n",
      "Trained model in 0.4849 seconds\n",
      "Made predictions in 0.6057 seconds.\n",
      "ROC_AUC score for training set: 0.7314.\n",
      "Made predictions in 0.1947 seconds.\n",
      "ROC_AUC score for test set: 0.6749.\n",
      "\n",
      "Training a GaussianNB using a training set size of 38345. . .\n",
      "Trained model in 0.8475 seconds\n",
      "Made predictions in 1.1929 seconds.\n",
      "ROC_AUC score for training set: 0.7156.\n",
      "Made predictions in 0.1896 seconds.\n",
      "ROC_AUC score for test set: 0.6770.\n",
      "\n",
      "Training a AdaBoostClassifier using a training set size of 10000. . .\n",
      "Trained model in 7.4054 seconds\n",
      "Made predictions in 0.4058 seconds.\n",
      "ROC_AUC score for training set: 0.7603.\n",
      "Made predictions in 0.3580 seconds.\n",
      "ROC_AUC score for test set: 0.6856.\n",
      "\n",
      "Training a AdaBoostClassifier using a training set size of 20000. . .\n",
      "Trained model in 15.1949 seconds\n",
      "Made predictions in 0.8752 seconds.\n",
      "ROC_AUC score for training set: 0.7480.\n",
      "Made predictions in 0.3523 seconds.\n",
      "ROC_AUC score for test set: 0.7018.\n",
      "\n",
      "Training a AdaBoostClassifier using a training set size of 38345. . .\n",
      "Trained model in 30.8632 seconds\n",
      "Made predictions in 1.3047 seconds.\n",
      "ROC_AUC score for training set: 0.7351.\n",
      "Made predictions in 0.3405 seconds.\n",
      "ROC_AUC score for test set: 0.7098.\n",
      "\n",
      "Training a RandomForestClassifier using a training set size of 10000. . .\n",
      "Trained model in 2.1740 seconds\n",
      "Made predictions in 0.1162 seconds.\n",
      "ROC_AUC score for training set: 0.9996.\n",
      "Made predictions in 0.1156 seconds.\n",
      "ROC_AUC score for test set: 0.6237.\n",
      "\n",
      "Training a RandomForestClassifier using a training set size of 20000. . .\n",
      "Trained model in 4.8486 seconds\n",
      "Made predictions in 0.2440 seconds.\n",
      "ROC_AUC score for training set: 0.9998.\n",
      "Made predictions in 0.1273 seconds.\n",
      "ROC_AUC score for test set: 0.6387.\n",
      "\n",
      "Training a RandomForestClassifier using a training set size of 38345. . .\n",
      "Trained model in 11.1083 seconds\n",
      "Made predictions in 0.6245 seconds.\n",
      "ROC_AUC score for training set: 0.9997.\n",
      "Made predictions in 0.1555 seconds.\n",
      "ROC_AUC score for test set: 0.6406.\n",
      "\n",
      "Training a LogisticRegression using a training set size of 10000. . .\n",
      "Trained model in 0.1621 seconds\n",
      "Made predictions in 0.0216 seconds.\n",
      "ROC_AUC score for training set: 0.8033.\n",
      "Made predictions in 0.0200 seconds.\n",
      "ROC_AUC score for test set: 0.7332.\n",
      "\n",
      "Training a LogisticRegression using a training set size of 20000. . .\n",
      "Trained model in 0.3220 seconds\n",
      "Made predictions in 0.0380 seconds.\n",
      "ROC_AUC score for training set: 0.7860.\n",
      "Made predictions in 0.0184 seconds.\n",
      "ROC_AUC score for test set: 0.7431.\n",
      "\n",
      "Training a LogisticRegression using a training set size of 38345. . .\n",
      "Trained model in 0.5905 seconds\n",
      "Made predictions in 0.0646 seconds.\n",
      "ROC_AUC score for training set: 0.7718.\n",
      "Made predictions in 0.0188 seconds.\n",
      "ROC_AUC score for test set: 0.7448.\n",
      "\n",
      "Training a DecisionTreeClassifier using a training set size of 10000. . .\n",
      "Trained model in 7.0975 seconds\n",
      "Made predictions in 0.0267 seconds.\n",
      "ROC_AUC score for training set: 1.0000.\n",
      "Made predictions in 0.0254 seconds.\n",
      "ROC_AUC score for test set: 0.5363.\n",
      "\n",
      "Training a DecisionTreeClassifier using a training set size of 20000. . .\n",
      "Trained model in 17.2950 seconds\n",
      "Made predictions in 0.0746 seconds.\n",
      "ROC_AUC score for training set: 1.0000.\n",
      "Made predictions in 0.0358 seconds.\n",
      "ROC_AUC score for test set: 0.5357.\n",
      "\n",
      "Training a DecisionTreeClassifier using a training set size of 38345. . .\n",
      "Trained model in 44.6502 seconds\n",
      "Made predictions in 0.1652 seconds.\n",
      "ROC_AUC score for training set: 1.0000.\n",
      "Made predictions in 0.0341 seconds.\n",
      "ROC_AUC score for test set: 0.5447.\n",
      "\n"
     ]
    }
   ],
   "source": [
    "# Import the supervised learning models from sklearn\n",
    "from sklearn.naive_bayes import GaussianNB\n",
    "from sklearn.ensemble import AdaBoostClassifier\n",
    "from sklearn.ensemble import RandomForestClassifier\n",
    "from sklearn.linear_model import LogisticRegression\n",
    "from sklearn.tree import DecisionTreeClassifier\n",
    "\n",
    "\n",
    "# Initialize the models using a random state were applicable.\n",
    "clf_list = [GaussianNB(), \n",
    "            AdaBoostClassifier(random_state = RAN_STATE), \n",
    "            RandomForestClassifier(random_state = RAN_STATE), \n",
    "            LogisticRegression(random_state = RAN_STATE),\n",
    "            DecisionTreeClassifier(random_state = RAN_STATE)]\n",
    "x_tr = X_train.toarray()\n",
    "x_te = X_test.toarray()\n",
    "\n",
    "\n",
    "# Set up the training set sizes for 100, 200 and 300 respectively.\n",
    "train_feature_list = [x_tr[0:10000],x_tr[0:20000],x_tr]\n",
    "train_target_list = [y_train[0:10000], y_train[0:20000], y_train]\n",
    "\n",
    "\n",
    "# Execute the 'train_predict' function for each of the classifiers and each training set size\n",
    "for clf in clf_list:\n",
    "    for a, b in zip(train_feature_list, train_target_list):\n",
    "        train_predict(clf, a, b, x_te, y_test)\n",
    "\n"
   ]
  },
  {
   "cell_type": "markdown",
   "metadata": {},
   "source": [
    "We will now test our classifiers using the functions above. All of the classifiers from sklearn will be tested, but only the three top choices discussed will have the results recorded."
   ]
  },
  {
   "cell_type": "code",
   "execution_count": 73,
   "metadata": {
    "collapsed": false
   },
   "outputs": [
    {
     "data": {
      "image/png": "[encoded data removed]",
      "text/plain": [
       "<matplotlib.figure.Figure at 0x7f3ea05df610>"
      ]
     },
     "metadata": {},
     "output_type": "display_data"
    },
    {
     "data": {
      "text/plain": [
       "<matplotlib.figure.Figure at 0x7f3ea048ba10>"
      ]
     },
     "metadata": {},
     "output_type": "display_data"
    }
   ],
   "source": [
    "# Visualize all of the classifiers                                                               \n",
    "for clf in clf_list:\n",
    "    x_graph = []\n",
    "    y_graph = []\n",
    "    for a, b in zip(train_feature_list, train_target_list):\n",
    "        y_graph.append(clf_test_roc_score(clf, a, b, x_te, y_test))\n",
    "        x_graph.append(len(a))\n",
    "    plt.scatter(x_graph,y_graph)\n",
    "    plt.plot(x_graph,y_graph, label = clf.__class__.__name__)\n",
    "\n",
    "plt.title('Comparison of Different Classifiers')\n",
    "plt.xlabel('Training Size')\n",
    "plt.ylabel('ROC_AUC score on test set')\n",
    "plt.legend(bbox_to_anchor=(1.6, 1.05))\n",
    "plt.figure(figsize=(13,9))             \n",
    "plt.show()"
   ]
  },
  {
   "cell_type": "markdown",
   "metadata": {},
   "source": [
    "## Refinement"
   ]
  },
  {
   "cell_type": "code",
   "execution_count": 74,
   "metadata": {
    "collapsed": false
   },
   "outputs": [
    {
     "data": {
      "text/plain": [
       "<47932x446 sparse matrix of type '<type 'numpy.float64'>'\n",
       "\twith 773671 stored elements in Compressed Sparse Row format>"
      ]
     },
     "execution_count": 74,
     "metadata": {},
     "output_type": "execute_result"
    }
   ],
   "source": [
    "#add Score column to features\n",
    "import scipy as scipy\n",
    "\n",
    "features = pickle.load( open( \"features.pickle\", \"rb\" ) )\n",
    "overall = np.array(list(df1.overall))\n",
    "overall = overall.reshape(features.shape[0], 1)\n",
    "\n",
    "features = scipy.sparse.hstack((features,scipy.sparse.csr_matrix(overall)))\n",
    "\n",
    "features = scipy.sparse.csr_matrix(features)\n",
    "features"
   ]
  },
  {
   "cell_type": "code",
   "execution_count": 75,
   "metadata": {
    "collapsed": true
   },
   "outputs": [],
   "source": [
    "X_train, X_test, y_train, y_test = train_test_split(features,df1['Helpful'], test_size=0.2, random_state=RAN_STATE)"
   ]
  },
  {
   "cell_type": "code",
   "execution_count": 76,
   "metadata": {
    "collapsed": false
   },
   "outputs": [
    {
     "data": {
      "text/plain": [
       "[mean: 0.73444, std: 0.01040, params: {'C': 1e-05, 'class_weight': None},\n",
       " mean: 0.73900, std: 0.00996, params: {'C': 1e-05, 'class_weight': 'balanced'},\n",
       " mean: 0.73978, std: 0.01059, params: {'C': 0.0001, 'class_weight': None},\n",
       " mean: 0.73457, std: 0.00989, params: {'C': 0.0001, 'class_weight': 'balanced'},\n",
       " mean: 0.75085, std: 0.01134, params: {'C': 0.001, 'class_weight': None},\n",
       " mean: 0.74382, std: 0.01042, params: {'C': 0.001, 'class_weight': 'balanced'},\n",
       " mean: 0.75392, std: 0.01162, params: {'C': 0.01, 'class_weight': None},\n",
       " mean: 0.75708, std: 0.01078, params: {'C': 0.01, 'class_weight': 'balanced'},\n",
       " mean: 0.77314, std: 0.01160, params: {'C': 0.1, 'class_weight': None},\n",
       " mean: 0.77892, std: 0.01072, params: {'C': 0.1, 'class_weight': 'balanced'},\n",
       " mean: 0.77960, std: 0.01075, params: {'C': 1, 'class_weight': None},\n",
       " mean: 0.77852, std: 0.01003, params: {'C': 1, 'class_weight': 'balanced'},\n",
       " mean: 0.77717, std: 0.01043, params: {'C': 10, 'class_weight': None},\n",
       " mean: 0.77642, std: 0.00995, params: {'C': 10, 'class_weight': 'balanced'},\n",
       " mean: 0.77666, std: 0.01039, params: {'C': 100, 'class_weight': None},\n",
       " mean: 0.77612, std: 0.00996, params: {'C': 100, 'class_weight': 'balanced'},\n",
       " mean: 0.77660, std: 0.01038, params: {'C': 1000, 'class_weight': None},\n",
       " mean: 0.77609, std: 0.00996, params: {'C': 1000, 'class_weight': 'balanced'},\n",
       " mean: 0.77660, std: 0.01038, params: {'C': 10000, 'class_weight': None},\n",
       " mean: 0.77609, std: 0.00996, params: {'C': 10000, 'class_weight': 'balanced'}]"
      ]
     },
     "execution_count": 76,
     "metadata": {},
     "output_type": "execute_result"
    }
   ],
   "source": [
    "gs = grid_search.GridSearchCV(\n",
    "    estimator=LogisticRegression(),\n",
    "    param_grid={'C': [10**i for i in range(-5,5)], 'class_weight': [None, 'balanced']},\n",
    "    cv=cross_validation.StratifiedKFold(y_train,n_folds=5),\n",
    "    scoring='roc_auc'\n",
    ")\n",
    "\n",
    "gs.fit(X_train, y_train)\n",
    "gs.grid_scores_"
   ]
  },
  {
   "cell_type": "code",
   "execution_count": 84,
   "metadata": {
    "collapsed": false
   },
   "outputs": [
    {
     "name": "stdout",
     "output_type": "stream",
     "text": [
      "ROC_AUC Score: 0.779451374698\n"
     ]
    },
    {
     "data": {
      "image/png": "[encoded data removed]",
      "text/plain": [
       "<matplotlib.figure.Figure at 0x7f3ea017f110>"
      ]
     },
     "metadata": {},
     "output_type": "display_data"
    }
   ],
   "source": [
    "clf = gs.best_estimator_\n",
    "probas =clf.predict_proba(X_test)\n",
    "y_pred = clf.predict(X_test)\n",
    "plt.figure(figsize = FIG_SIZE)\n",
    "plt.plot(roc_curve(y_test, probas[:,1])[0], roc_curve(y_test, probas[:,1])[1])\n",
    "plt.title('ROC Curve for Helpful Rating')\n",
    "plt.grid()\n",
    "plt.xlabel('False Positive Rate (1 - Specificity)')\n",
    "plt.ylabel('True Positive Rate (Sensitivity)')\n",
    "plt.show\n",
    "\n",
    "# ROC/AUC score\n",
    "print ('ROC_AUC Score:',roc_auc_score(y_test, probas[:,1].T))"
   ]
  },
  {
   "cell_type": "markdown",
   "metadata": {},
   "source": [
    "## Results"
   ]
  },
  {
   "cell_type": "markdown",
   "metadata": {},
   "source": [
    "### Model Evaluation and Validation\n",
    "The final model’s qualities — such as parameters — are evaluated in detail. Some type of analysis is used to validate the robustness of the model’s solution."
   ]
  },
  {
   "cell_type": "markdown",
   "metadata": {},
   "source": [
    "### Justification\n",
    "\n",
    "The final results are compared to the benchmark result or threshold with some type of statistical analysis. Justification is made as to whether the final model and solution is significant enough to have adequately solved the problem."
   ]
  },
  {
   "cell_type": "markdown",
   "metadata": {},
   "source": [
    "## Conclusion"
   ]
  },
  {
   "cell_type": "markdown",
   "metadata": {},
   "source": [
    "### Free-Form Visualization\n",
    "A visualization has been provided that emphasizes an important quality about the project with thorough discussion. Visual cues are clearly defined.\n"
   ]
  },
  {
   "cell_type": "markdown",
   "metadata": {},
   "source": [
    "### Reflection\n",
    "\n",
    "Student adequately summarizes the end-to-end problem solution and discusses one or two particular aspects of the project they found interesting or difficult."
   ]
  },
  {
   "cell_type": "markdown",
   "metadata": {},
   "source": [
    "### Improvements\n",
    "\n",
    "Discussion is made as to how one aspect of the implementation could be improved. Potential solutions resulting from these improvements are considered and compared/contrasted to the current solution."
   ]
  },
  {
   "cell_type": "markdown",
   "metadata": {},
   "source": [
    "## References"
   ]
  },
  {
   "cell_type": "markdown",
   "metadata": {},
   "source": [
    "1. Inferring networks of substitutable and complementary products. J. McAuley, R. Pandey, J.\n",
    "Leskovec Knowledge Discovery and Data Mining, 2015.\n",
    "2. Image-based recommendations on styles and substitutes J. McAuley, C. Targett, J. Shi, A. van\n",
    "den Hengel SIGIR, 2015.\n",
    "3. HUI BWU Y. Anti-spam model based on semi-Naive Bayesian classification model. Journal of Computer Applications. 2009;29(3):903-904.\n",
    "\n",
    "4. Liaw A. Weiner M. Classification and Regression by randomForest. R News. 2002;Vol 2(2):18-22.\n",
    "\n",
    "5. Casanova R, Saldana S, Chew EY, Danis RP, Greven CM, et al. (2014) Application of Random Forests Methods to  Diabetic Retinopathy Classification Analyses. PLoS ONE 9(6): e98587. doi: 10.1371/journal.pone.0098587\n",
    "\n",
    "6. Jones M. Viola A. Robust Real-Time Face Detection. International Journal of Computer Vision. 2004. pg 137–154.\n",
    "\n"
   ]
  },
  {
   "cell_type": "code",
   "execution_count": null,
   "metadata": {
    "collapsed": true
   },
   "outputs": [],
   "source": []
  }
 ],
 "metadata": {
  "anaconda-cloud": {},
  "kernelspec": {
   "display_name": "Python [conda root]",
   "language": "python",
   "name": "conda-root-py"
  },
  "language_info": {
   "codemirror_mode": {
    "name": "ipython",
    "version": 2
   },
   "file_extension": ".py",
   "mimetype": "text/x-python",
   "name": "python",
   "nbconvert_exporter": "python",
   "pygments_lexer": "ipython2",
   "version": "2.7.12"
  }
 },
 "nbformat": 4,
 "nbformat_minor": 1
}
